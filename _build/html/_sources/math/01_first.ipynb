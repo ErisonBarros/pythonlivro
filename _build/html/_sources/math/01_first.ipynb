{
 "cells": [
  {
   "cell_type": "markdown",
   "metadata": {},
   "source": [
    "# Computação Matemática e Científica\n",
    "\n",
    "Este Capítulo irá focar no ecossistema SciPy de softwares livres para matemática e ciência, incluindo:\n",
    "\n",
    "   * NumPy: operações com arrays n-dimensionais;\n",
    "   * SciPy: biblioteca fundamental para programação científica;\n",
    "   * Pandas: armazenamento, operações e análises usando estruturas de dados como DataFrames e Series; e\n",
    "   * Matplotlib: visualização de dados.\n",
    "   \n",
    "Além disso, iremos cobrir pacotes de computação matemática que permitem realizar processamento em unidades de processamento gráfico (GPU, do inglês *Graphics Processing Unit*), incluindo PyTorch e TensorFlow."
   ]
  }
 ],
 "metadata": {
  "kernelspec": {
   "display_name": "Python 3",
   "language": "python",
   "name": "python3"
  },
  "language_info": {
   "codemirror_mode": {
    "name": "ipython",
    "version": 3
   },
   "file_extension": ".py",
   "mimetype": "text/x-python",
   "name": "python",
   "nbconvert_exporter": "python",
   "pygments_lexer": "ipython3",
   "version": "3.6.5"
  }
 },
 "nbformat": 4,
 "nbformat_minor": 2
}
