{
 "cells": [
  {
   "cell_type": "markdown",
   "metadata": {},
   "source": [
    "# SciPy\n",
    "\n",
    "A biblioteca SciPy disponibiliza muitas funcionalidades de computação científica implementadas de forma eficiente, incluindo integração numérica, interpolação, otimização, álgebra linear e Estatística. A documentação completa pode ser encontrada em [docs.scipy.org/doc](https://docs.scipy.org/doc/). Os módulos disponíveis no SciPy incluem:\n",
    "\n",
    " 1. *cluster*: Algoritmos de agrupamento hierárquicos e por quantização vetorial\n",
    " 2. *constants*: Constantes físicas e matemáticas\n",
    " 3. *fftpack*: Funções relacionadas à transformada rápida de Fourier\n",
    " 4. *integrate*: Funções para calcular integrais e equações diferenciais ordinárias\n",
    " 5. *interpolate*: Interpolação e *splines* de suavização\n",
    " 6. *linalg*: Álgebra linear\n",
    " 7. *optimize*: Otimização e funções para encontrar raízes\n",
    " 8. *signal*: Processamento de sinais\n",
    " 9. *spatial*: Algoritmos, estruturas de dados espaciais e distâncias\n",
    " 10. *stats*: Funções e distribuições estatísticas\n",
    "\n",
    "\n",
    "## Funções para integração\n",
    "\n",
    "O módulo *integrate* oferece diversas funções para calcular integrais. A primeira delas é a função *quad*, que permite computar uma integral definida de uma variável:"
   ]
  },
  {
   "cell_type": "code",
   "execution_count": 1,
   "metadata": {},
   "outputs": [
    {
     "name": "stdout",
     "output_type": "stream",
     "text": [
      "resultado: 2.666666666666667, erro: 2.960594732333751e-14\n"
     ]
    }
   ],
   "source": [
    "from scipy.integrate import quad\n",
    "\n",
    "x2 = lambda x: x**2\n",
    "integral = quad(x2, 0, 2)\n",
    "print('resultado: {}, erro: {}'.format(integral[0], integral[1]))"
   ]
  },
  {
   "cell_type": "code",
   "execution_count": 2,
   "metadata": {},
   "outputs": [
    {
     "name": "stdout",
     "output_type": "stream",
     "text": [
      "P(-3 < X < 3): 0.9973002039367399, erro: 1.1072256503105314e-14\n"
     ]
    }
   ],
   "source": [
    "import numpy as np\n",
    "\n",
    "def normal_fdp(x, mu, sigma_2):\n",
    "    return np.exp(-(x - mu) ** 2 / (2 * sigma_2)) / np.sqrt(2 * np.pi * sigma_2)\n",
    "\n",
    "standard_fdp = lambda x: normal_fdp(x, 0, 1)\n",
    "integral = quad(standard_fdp, -3, 3)\n",
    "print('P(-3 < X < 3): {}, erro: {}'.format(integral[0], integral[1]))"
   ]
  },
  {
   "cell_type": "markdown",
   "metadata": {},
   "source": [
    "Para computar integrais duplas, triplas e sobre múltiplas variáveis, o módulo oferece respectivamente as funções *dblquad*, *tplquad* e *nquad*."
   ]
  },
  {
   "cell_type": "markdown",
   "metadata": {},
   "source": [
    "## Funções para interpolação\n",
    "\n",
    "Para interpolar funções 1D, o ódulo *interpolate* possui a função *interp1d*. Essa função é chamada com dois vetores *x* e *y* e retorna uma função que pode ser chamda para usar interpolação e encontrar novos valores de *y* para novos valores de *x*. "
   ]
  },
  {
   "cell_type": "code",
   "execution_count": 3,
   "metadata": {},
   "outputs": [
    {
     "data": {
      "image/png": "[encoded data removed]",
      "text/plain": [
       "<Figure size 432x288 with 1 Axes>"
      ]
     },
     "metadata": {
      "filenames": {
       "image/png": "/home/tmfilho/Documents/git/pyestbook/_build/jupyter_execute/math/03_scip_5_0.png"
      },
      "needs_background": "light"
     },
     "output_type": "display_data"
    }
   ],
   "source": [
    "import matplotlib.pyplot as plt\n",
    "from scipy.interpolate import interp1d\n",
    "\n",
    "x = np.arange(0, 10)\n",
    "y = np.exp(-x / 3.0)\n",
    "f = interp1d(x, y)\n",
    "\n",
    "x_new = np.arange(0, 9, 0.1)\n",
    "y_new = f(x_new)\n",
    "plt.plot(x, y, 'o', x_new, y_new, '-')\n",
    "plt.show()"
   ]
  },
  {
   "cell_type": "markdown",
   "metadata": {},
   "source": [
    "## Funções espaciais\n",
    "\n",
    "O módulo *spatial* contém diversas funções para calcular distâncias, realizar transformações espaciais, encontrar envólucros convexos, etc. As masis de 20 funções de distâncias são encontradas no submódulo *spatial.distance* e incluem distâncias entre vetores e entre linhas de matrizes. A função *pdist* permite calcular as distâncias par-a-par entre as linhas de uma matriz *X*:"
   ]
  },
  {
   "cell_type": "code",
   "execution_count": 4,
   "metadata": {},
   "outputs": [
    {
     "name": "stdout",
     "output_type": "stream",
     "text": [
      "[ 5.19615242 10.39230485 15.58845727  5.19615242 10.39230485  5.19615242]\n"
     ]
    }
   ],
   "source": [
    "from scipy.spatial.distance import pdist\n",
    "\n",
    "X = np.arange(12).reshape(4, 3)\n",
    "print(pdist(X))"
   ]
  },
  {
   "cell_type": "markdown",
   "metadata": {},
   "source": [
    "O retorno da função *pdist* é uma matriz condensada na forma de um vetor, para economizar espaço. A ideia é que a matriz de distâncias original tem diagonal *0* e valores espelhados. Para recuperar a matriz quadrada original, pode-se usar a função *squareform*:"
   ]
  },
  {
   "cell_type": "code",
   "execution_count": 5,
   "metadata": {},
   "outputs": [
    {
     "name": "stdout",
     "output_type": "stream",
     "text": [
      "[[ 0.          5.19615242 10.39230485 15.58845727]\n",
      " [ 5.19615242  0.          5.19615242 10.39230485]\n",
      " [10.39230485  5.19615242  0.          5.19615242]\n",
      " [15.58845727 10.39230485  5.19615242  0.        ]]\n"
     ]
    }
   ],
   "source": [
    "from scipy.spatial.distance import squareform\n",
    "\n",
    "print(squareform(pdist(X)))"
   ]
  },
  {
   "cell_type": "markdown",
   "metadata": {},
   "source": [
    "A função *pdist* permite escolher a métrica de distância utilizada, tendo a distância Euclidiana como padrão. Por exemplo, para se calcular a distância Euclidiana quadrática, pode-se fazer:"
   ]
  },
  {
   "cell_type": "code",
   "execution_count": 6,
   "metadata": {},
   "outputs": [
    {
     "name": "stdout",
     "output_type": "stream",
     "text": [
      "[[  0.  27. 108. 243.]\n",
      " [ 27.   0.  27. 108.]\n",
      " [108.  27.   0.  27.]\n",
      " [243. 108.  27.   0.]]\n"
     ]
    }
   ],
   "source": [
    "print(squareform(pdist(X, metric='sqeuclidean')))"
   ]
  },
  {
   "cell_type": "markdown",
   "metadata": {},
   "source": [
    "Para calcular as distâncias entre as linhas de uma matriz $A$ e as de uma matriz $B$, usa-se a função *cdist*, que, assim como a função *pdist*, permite escolher a métrica."
   ]
  },
  {
   "cell_type": "code",
   "execution_count": 7,
   "metadata": {},
   "outputs": [
    {
     "name": "stdout",
     "output_type": "stream",
     "text": [
      "[[ 2.12698605  1.63700702  3.09875177  3.04020271]\n",
      " [11.0632963  10.55103439 10.90092708 10.66965794]\n",
      " [20.0632963  19.55103439 19.90092708 19.66965794]\n",
      " [29.0632963  28.55103439 28.90092708 28.66965794]\n",
      " [38.0632963  37.55103439 37.90092708 37.66965794]\n",
      " [47.0632963  46.55103439 46.90092708 46.66965794]\n",
      " [56.0632963  55.55103439 55.90092708 55.66965794]\n",
      " [65.0632963  64.55103439 64.90092708 64.66965794]\n",
      " [74.0632963  73.55103439 73.90092708 73.66965794]\n",
      " [83.0632963  82.55103439 82.90092708 82.66965794]]\n"
     ]
    }
   ],
   "source": [
    "from scipy.spatial.distance import cdist\n",
    "\n",
    "A = np.arange(30).reshape(10, 3)\n",
    "B = np.random.random((4, 3))\n",
    "\n",
    "print(cdist(A, B, metric='cityblock'))"
   ]
  },
  {
   "cell_type": "markdown",
   "metadata": {},
   "source": [
    "## Funções de otimização\n",
    "\n",
    "O módulo *optimize* oferece funções para minimização ou maximização de funções objetivo, com a possibilidade de forçar restrições. A principal função desse módulo é a *minimize*, que precisa receber como parâmetros uma função que será minimizada e uma solução inicial. Outros parâmetros incluem argumentos extras para a função minimizada, o método de minimização escolhido (padrão *BFGS*), possíveis restrições, uma função para calcular a Hessiana, um parâmetro e tolerância para critério de parada, entre outros."
   ]
  },
  {
   "cell_type": "code",
   "execution_count": 8,
   "metadata": {},
   "outputs": [
    {
     "name": "stdout",
     "output_type": "stream",
     "text": [
      "[-4.14270251e-08]\n"
     ]
    }
   ],
   "source": [
    "from scipy.optimize import minimize\n",
    "\n",
    "f = lambda x: x ** 2\n",
    "x0 = 10\n",
    "\n",
    "res = minimize(f, x0)\n",
    "print(res.x)"
   ]
  },
  {
   "cell_type": "code",
   "execution_count": 9,
   "metadata": {},
   "outputs": [
    {
     "name": "stdout",
     "output_type": "stream",
     "text": [
      "[-7.45036449e-09]\n"
     ]
    }
   ],
   "source": [
    "x0 = 1\n",
    "res = minimize(f, x0)\n",
    "print(res.x)"
   ]
  },
  {
   "cell_type": "code",
   "execution_count": 10,
   "metadata": {},
   "outputs": [
    {
     "name": "stdout",
     "output_type": "stream",
     "text": [
      "[2.88291837e-15]\n"
     ]
    }
   ],
   "source": [
    "x0 = 10\n",
    "bounds = [(0, None)]\n",
    "\n",
    "res = minimize(f, x0, bounds=bounds)\n",
    "print(res.x)"
   ]
  },
  {
   "cell_type": "code",
   "execution_count": 11,
   "metadata": {},
   "outputs": [
    {
     "name": "stdout",
     "output_type": "stream",
     "text": [
      "[0.]\n"
     ]
    }
   ],
   "source": [
    "x0 = 1\n",
    "bounds = [(0, None)]\n",
    "\n",
    "res = minimize(f, x0, bounds=bounds)\n",
    "print(res.x)"
   ]
  },
  {
   "cell_type": "markdown",
   "metadata": {},
   "source": [
    "A função *minimize* pode ser usada para estimar modelos. Por exemplo, vamos usá-la para estimar um modelo de regressão linear:"
   ]
  },
  {
   "cell_type": "code",
   "execution_count": 12,
   "metadata": {},
   "outputs": [
    {
     "name": "stdout",
     "output_type": "stream",
     "text": [
      "[2.17478032 2.84521493]\n"
     ]
    }
   ],
   "source": [
    "np.random.seed(42)\n",
    "X = np.random.random(1000)\n",
    "y = 3 * X + 2 + np.random.normal(size=1000)\n",
    "\n",
    "betas = np.random.normal(size=2)\n",
    "\n",
    "sq_err = lambda b, x, y: np.mean(((x*b[1] + b[0]) - y) ** 2)\n",
    "\n",
    "res = minimize(sq_err, betas, args=(X, y))\n",
    "print(res.x)"
   ]
  },
  {
   "cell_type": "markdown",
   "metadata": {},
   "source": [
    "## Funções estatísticas\n",
    "\n",
    "O módulo *stats* contém uma grande quantidade de distribuições de probabilidade (124 atualmente), e uma biblioteca em constante crescimento de funções estatísticas, incluindo estatística descritiva, distribuições de frequência, correlações, testes, transformações, distâncias, estatística circular, etc. Também há duas classes que facilitam a criação de distribuições customizadas: *rv_continuous*, para distribuições contínuas, e *rv_discrete*, para discretas.\n",
    "\n",
    "### Usando distribuições\n",
    "\n",
    "Nesta Seção, tomaremos como exemplo a distribuição normal, representada pela classe *scipy.stats.norm*, que herda todos métodos genéricos da classe *rv_continuous*. A classe *norm* representa a forma normal padrão, i.e. sua função densidade de probabilidade (fdp) para um número real $x$ é: $$f(x) = \\frac{e^{-x^{2}/2}}{\\sqrt{2\\pi}}.$$\n",
    "Para importar a ditribuição normal, fazemos: \n"
   ]
  },
  {
   "cell_type": "code",
   "execution_count": 13,
   "metadata": {},
   "outputs": [],
   "source": [
    "from scipy.stats import norm"
   ]
  },
  {
   "cell_type": "markdown",
   "metadata": {},
   "source": [
    "Para calcular alguns momentos:"
   ]
  },
  {
   "cell_type": "code",
   "execution_count": 14,
   "metadata": {},
   "outputs": [
    {
     "name": "stdout",
     "output_type": "stream",
     "text": [
      "média: 0.0, variância: 1.0, assimetria: 0.0, curtose: 0.0\n"
     ]
    }
   ],
   "source": [
    "mean, var, skew, kurt = norm.stats(moments='mvsk')\n",
    "print('média: {}, variância: {}, assimetria: {}, curtose: {}'.format(mean, var, skew, kurt))"
   ]
  },
  {
   "cell_type": "markdown",
   "metadata": {},
   "source": [
    "Como dito acima, essa classe implementa a distribuição normal padrão. Para deslocar ou mudar a escala da distribuição, i.e. informar média e desvio-padrão, pode-se infomar os parâmetros *loc* e *scale*, respectivamente. Exemplo:"
   ]
  },
  {
   "cell_type": "code",
   "execution_count": 15,
   "metadata": {},
   "outputs": [
    {
     "name": "stdout",
     "output_type": "stream",
     "text": [
      "média: 2.0, variância: 0.25\n"
     ]
    }
   ],
   "source": [
    "mean, var = norm.stats(loc=2, scale=0.5, moments='mv')\n",
    "print('média: {}, variância: {}'.format(mean, var, skew, kurt))"
   ]
  },
  {
   "cell_type": "markdown",
   "metadata": {},
   "source": [
    "Para calcular a fdp para um número real $x$, fazemos:"
   ]
  },
  {
   "cell_type": "code",
   "execution_count": 16,
   "metadata": {},
   "outputs": [
    {
     "name": "stdout",
     "output_type": "stream",
     "text": [
      "0.10798193302637613\n"
     ]
    }
   ],
   "source": [
    "x = 1\n",
    "print(norm.pdf(x, loc=2, scale=0.5))"
   ]
  },
  {
   "cell_type": "markdown",
   "metadata": {},
   "source": [
    "A função *pdf* também pode ser usada para calcular a fdp para cada elemento de um *array*:"
   ]
  },
  {
   "cell_type": "code",
   "execution_count": 17,
   "metadata": {},
   "outputs": [
    {
     "data": {
      "image/png": "[encoded data removed]",
      "text/plain": [
       "<Figure size 432x288 with 1 Axes>"
      ]
     },
     "metadata": {
      "filenames": {
       "image/png": "/home/tmfilho/Documents/git/pyestbook/_build/jupyter_execute/math/03_scip_30_0.png"
      },
      "needs_background": "light"
     },
     "output_type": "display_data"
    }
   ],
   "source": [
    "import numpy as np\n",
    "import matplotlib.pyplot as plt\n",
    "\n",
    "x = np.linspace(0, 4, 1000)\n",
    "plt.plot(x, norm.pdf(x, loc=2, scale=0.5))\n",
    "plt.show()"
   ]
  },
  {
   "cell_type": "markdown",
   "metadata": {},
   "source": [
    "A função de distribuição acumulada pode ser calculada de maneira muito similar, usando a função *cdf*:"
   ]
  },
  {
   "cell_type": "code",
   "execution_count": 18,
   "metadata": {},
   "outputs": [
    {
     "data": {
      "image/png": "[encoded data removed]",
      "text/plain": [
       "<Figure size 432x288 with 1 Axes>"
      ]
     },
     "metadata": {
      "filenames": {
       "image/png": "/home/tmfilho/Documents/git/pyestbook/_build/jupyter_execute/math/03_scip_32_0.png"
      },
      "needs_background": "light"
     },
     "output_type": "display_data"
    }
   ],
   "source": [
    "plt.plot(x, norm.cdf(x, loc=2, scale=0.5))\n",
    "plt.show()"
   ]
  },
  {
   "cell_type": "markdown",
   "metadata": {},
   "source": [
    "Para construir o intervalo que contém $95\\%$ da distribuição, faz-se:"
   ]
  },
  {
   "cell_type": "code",
   "execution_count": 19,
   "metadata": {},
   "outputs": [
    {
     "name": "stdout",
     "output_type": "stream",
     "text": [
      "(1.020018007729973, 2.979981992270027)\n"
     ]
    }
   ],
   "source": [
    "print(norm.interval(0.95, loc=2, scale=0.5))"
   ]
  },
  {
   "cell_type": "markdown",
   "metadata": {},
   "source": [
    "Para construir o intervalo de confiança de $95\\%$ para a média de $100$ observações de uma normal $X \\sim N(2, 0.25)$, podemos usar a função *interval* novamente:"
   ]
  },
  {
   "cell_type": "code",
   "execution_count": 20,
   "metadata": {},
   "outputs": [
    {
     "name": "stdout",
     "output_type": "stream",
     "text": [
      "(1.9902001800772997, 2.0097998199227)\n"
     ]
    }
   ],
   "source": [
    "print(norm.interval(0.95, loc=2, scale=0.5/100))"
   ]
  },
  {
   "cell_type": "markdown",
   "metadata": {},
   "source": [
    "Para retirar amostras de uma variável $X \\sim N(2, 0.25)$, usamos a função *rvs* (de *random variable sample*):"
   ]
  },
  {
   "cell_type": "code",
   "execution_count": 21,
   "metadata": {},
   "outputs": [
    {
     "data": {
      "image/png": "[encoded data removed]",
      "text/plain": [
       "<Figure size 432x288 with 1 Axes>"
      ]
     },
     "metadata": {
      "filenames": {
       "image/png": "/home/tmfilho/Documents/git/pyestbook/_build/jupyter_execute/math/03_scip_38_0.png"
      },
      "needs_background": "light"
     },
     "output_type": "display_data"
    }
   ],
   "source": [
    "np.random.seed(42)\n",
    "\n",
    "samples = norm.rvs(loc=2, scale=0.5, size=1000)\n",
    "plt.hist(samples)\n",
    "plt.show()"
   ]
  },
  {
   "cell_type": "markdown",
   "metadata": {},
   "source": [
    "Para obter os percentis de uma variável $X \\sim N(2, 0.25)$ usamos a função *ppf* (*percent point function*):"
   ]
  },
  {
   "cell_type": "code",
   "execution_count": 22,
   "metadata": {},
   "outputs": [
    {
     "name": "stdout",
     "output_type": "stream",
     "text": [
      "primeiro quartil: 1.6627551249019592, terceiro quartil: 2.337244875098041\n"
     ]
    }
   ],
   "source": [
    "q1 = norm.ppf(0.25, loc=2, scale=0.5)\n",
    "q3 = norm.ppf(0.75, loc=2, scale=0.5)\n",
    "\n",
    "print('primeiro quartil: {}, terceiro quartil: {}'.format(q1, q3))"
   ]
  },
  {
   "cell_type": "markdown",
   "metadata": {},
   "source": [
    "Note que, ao longo desses exemplos, foi necessário informar a média (*loc*) e o desvio padrão (*scale*) repetidamente. Para evitar essa repetição de código, é possível criar um objeto *norm* que armazena a média e o desvio padrão para posterior uso nos demais métodos. Para isso, basta chamar *norm* em forma de função (construtor)."
   ]
  },
  {
   "cell_type": "code",
   "execution_count": 23,
   "metadata": {},
   "outputs": [
    {
     "data": {
      "image/png": "[encoded data removed]",
      "text/plain": [
       "<Figure size 432x288 with 1 Axes>"
      ]
     },
     "metadata": {
      "filenames": {
       "image/png": "/home/tmfilho/Documents/git/pyestbook/_build/jupyter_execute/math/03_scip_42_0.png"
      },
      "needs_background": "light"
     },
     "output_type": "display_data"
    }
   ],
   "source": [
    "rv = norm(loc=2, scale=0.5)\n",
    "\n",
    "samples = rv.rvs(size=1000)\n",
    "plt.hist(samples)\n",
    "plt.show()"
   ]
  },
  {
   "cell_type": "code",
   "execution_count": 24,
   "metadata": {},
   "outputs": [
    {
     "data": {
      "image/png": "[encoded data removed]",
      "text/plain": [
       "<Figure size 432x288 with 1 Axes>"
      ]
     },
     "metadata": {
      "filenames": {
       "image/png": "/home/tmfilho/Documents/git/pyestbook/_build/jupyter_execute/math/03_scip_43_0.png"
      },
      "needs_background": "light"
     },
     "output_type": "display_data"
    }
   ],
   "source": [
    "x = np.linspace(0, 4, 1000)\n",
    "plt.plot(x, rv.pdf(x))\n",
    "plt.show()"
   ]
  },
  {
   "cell_type": "markdown",
   "metadata": {},
   "source": [
    "Ao fazer isso, os métodos não aceitarão mais os parâmetros *loc* e *scale*:"
   ]
  },
  {
   "cell_type": "code",
   "execution_count": 25,
   "metadata": {},
   "outputs": [
    {
     "ename": "TypeError",
     "evalue": "pdf() got an unexpected keyword argument 'loc'",
     "output_type": "error",
     "traceback": [
      "\u001b[0;31m---------------------------------------------------------------------------\u001b[0m",
      "\u001b[0;31mTypeError\u001b[0m                                 Traceback (most recent call last)",
      "\u001b[0;32m<ipython-input-25-c0d6c5024495>\u001b[0m in \u001b[0;36m<module>\u001b[0;34m\u001b[0m\n\u001b[0;32m----> 1\u001b[0;31m \u001b[0mplt\u001b[0m\u001b[0;34m.\u001b[0m\u001b[0mplot\u001b[0m\u001b[0;34m(\u001b[0m\u001b[0mx\u001b[0m\u001b[0;34m,\u001b[0m \u001b[0mrv\u001b[0m\u001b[0;34m.\u001b[0m\u001b[0mpdf\u001b[0m\u001b[0;34m(\u001b[0m\u001b[0mx\u001b[0m\u001b[0;34m,\u001b[0m \u001b[0mloc\u001b[0m\u001b[0;34m=\u001b[0m\u001b[0;36m2\u001b[0m\u001b[0;34m,\u001b[0m \u001b[0mscale\u001b[0m\u001b[0;34m=\u001b[0m\u001b[0;36m0.5\u001b[0m\u001b[0;34m)\u001b[0m\u001b[0;34m)\u001b[0m\u001b[0;34m\u001b[0m\u001b[0;34m\u001b[0m\u001b[0m\n\u001b[0m\u001b[1;32m      2\u001b[0m \u001b[0mplt\u001b[0m\u001b[0;34m.\u001b[0m\u001b[0mshow\u001b[0m\u001b[0;34m(\u001b[0m\u001b[0;34m)\u001b[0m\u001b[0;34m\u001b[0m\u001b[0;34m\u001b[0m\u001b[0m\n",
      "\u001b[0;31mTypeError\u001b[0m: pdf() got an unexpected keyword argument 'loc'"
     ]
    }
   ],
   "source": [
    "plt.plot(x, rv.pdf(x, loc=2, scale=0.5))\n",
    "plt.show()"
   ]
  },
  {
   "cell_type": "markdown",
   "metadata": {},
   "source": [
    "Outras funções úteis incluem *expect* e *fit*. A função *expect* calcula o valor esperado de uma função com respeito à distribuição. Exemplo:"
   ]
  },
  {
   "cell_type": "code",
   "execution_count": 26,
   "metadata": {},
   "outputs": [
    {
     "name": "stdout",
     "output_type": "stream",
     "text": [
      "variância 1: 0.2500000000000009, variância 2: 0.25\n"
     ]
    }
   ],
   "source": [
    "def square(x):\n",
    "    return x ** 2\n",
    "\n",
    "expected_x_square = rv.expect(square)\n",
    "square_expected_x = rv.mean() ** 2\n",
    "var_calc = expected_x_square - square_expected_x\n",
    "\n",
    "print('variância 1: {}, variância 2: {}'.format(var_calc, rv.var()))"
   ]
  },
  {
   "cell_type": "markdown",
   "metadata": {},
   "source": [
    "A função *fit* ajusta uma distribuição ao *array* de dados informado. No caso da distribuição normal, isso significa calcular a média e o desvio padrão dos dados. Exemplo:"
   ]
  },
  {
   "cell_type": "code",
   "execution_count": 27,
   "metadata": {},
   "outputs": [
    {
     "name": "stdout",
     "output_type": "stream",
     "text": [
      "média: 1.0579961674669767, desvio padrão: 2.9361786232420632\n"
     ]
    }
   ],
   "source": [
    "np.random.seed(42)\n",
    "x = norm.rvs(loc=1, scale=3, size=1000)\n",
    "\n",
    "mean, std = norm.fit(x)\n",
    "print('média: {}, desvio padrão: {}'.format(mean, std))"
   ]
  },
  {
   "cell_type": "markdown",
   "metadata": {},
   "source": [
    "Apesar de termos usado a distribuição normal como exemplo, todas as funcionalidades que apresentamos também se aplicam às outras distribuições contínuas e discretas, com uma diferença: nas distribuições discretas, a função *pdf* dá lugar à função *pmf* (função massa de probabilidade). No entando, seu uso é igual."
   ]
  },
  {
   "cell_type": "markdown",
   "metadata": {},
   "source": [
    "### Testes de hipótese\n",
    "\n",
    "O módulo *stats* atualmente oferece 32 funções para realizar diferentes testes de hipótese, incluindo testes paramétricos e não-paraétricos para média, mediana e variância e testes de bondade de ajuste e de normalidade. Começaremos cobrindo o teste t de Student bicaudal para a média de uma coleção de observações, i.e. $H_0\\text{:}~ \\bar{x} = \\mu_0$ e $H_1\\text{:}~ \\bar{x} \\neq \\mu_0$. Esse teste pode ser realizado pela função *ttest_1samp*, que recebe como parâmetros um *array* e uma média populacional:"
   ]
  },
  {
   "cell_type": "code",
   "execution_count": 28,
   "metadata": {},
   "outputs": [
    {
     "name": "stdout",
     "output_type": "stream",
     "text": [
      "Não rejeita a hipótese nula: Ttest_1sampResult(statistic=0.6243089585093202, pvalue=0.5325672436623019)\n",
      "Rejeita a hipótese nula: Ttest_1sampResult(statistic=16.77129726247285, pvalue=8.210083235562808e-56)\n"
     ]
    }
   ],
   "source": [
    "from scipy.stats import ttest_1samp\n",
    "\n",
    "np.random.seed(42)\n",
    "\n",
    "x = norm.rvs(loc=5, scale=10, size=1000)\n",
    "print(\n",
    "    'Não rejeita a hipótese nula: {}'.format(ttest_1samp(x, 5))\n",
    ")\n",
    "print(\n",
    "    'Rejeita a hipótese nula: {}'.format(ttest_1samp(x, 0))\n",
    ")"
   ]
  },
  {
   "cell_type": "markdown",
   "metadata": {},
   "source": [
    "Os testes t para duas amostras podem ser realizados para amostras independentes ou pareadas por meio das funções *ttest_ind* e *ttest_rel*, respectivamente. A função *ttest_ind* recebe dois *arrays* e realiza um teste bicaudal para igualdade das duas médias. Exemplo:"
   ]
  },
  {
   "cell_type": "code",
   "execution_count": 29,
   "metadata": {},
   "outputs": [
    {
     "name": "stdout",
     "output_type": "stream",
     "text": [
      "Não rejeita a hipótese nula: Ttest_indResult(statistic=-1.2296429533938804, pvalue=0.22252704557384642)\n"
     ]
    }
   ],
   "source": [
    "from scipy.stats import ttest_ind\n",
    "\n",
    "np.random.seed(42)\n",
    "a = norm.rvs(loc=5, scale=10, size=50)\n",
    "b = norm.rvs(loc=5, scale=10, size=30)\n",
    "\n",
    "print(\n",
    "    'Não rejeita a hipótese nula: {}'.format(ttest_ind(a, b))\n",
    ")"
   ]
  },
  {
   "cell_type": "markdown",
   "metadata": {},
   "source": [
    "A função *ttest_ind* assume por padrão que as duas populações têm a mesma variância. Caso deseje-se assumir variâncias diferentes, pode-se atribuir o valor **False** ao parâmetro *equal_var*:"
   ]
  },
  {
   "cell_type": "code",
   "execution_count": 30,
   "metadata": {},
   "outputs": [
    {
     "name": "stdout",
     "output_type": "stream",
     "text": [
      "Rejeita a hipótese nula: Ttest_indResult(statistic=2.0257732965417956, pvalue=0.048054285617342485)\n"
     ]
    }
   ],
   "source": [
    "np.random.seed(42)\n",
    "a = norm.rvs(loc=5, scale=10, size=50)\n",
    "b = norm.rvs(loc=0, scale=1, size=30)\n",
    "\n",
    "print(\n",
    "    'Rejeita a hipótese nula: {}'.format(ttest_ind(a, b, equal_var=False))\n",
    ")"
   ]
  },
  {
   "cell_type": "markdown",
   "metadata": {},
   "source": [
    "Caso apenas os valores das médias, desvios e tamanhos amostrais estejam disponíveis (ao invés das amostras em si), pode-se usar a função *ttest_ind_from_stats*:"
   ]
  },
  {
   "cell_type": "code",
   "execution_count": 31,
   "metadata": {},
   "outputs": [
    {
     "name": "stdout",
     "output_type": "stream",
     "text": [
      "Rejeita a hipótese nula: Ttest_indResult(statistic=3.396831102433787, pvalue=0.0024703403870314903)\n"
     ]
    }
   ],
   "source": [
    "from scipy.stats import ttest_ind_from_stats\n",
    "\n",
    "mean1, std1, nobs1 = 0, 1, 50\n",
    "mean2, std2, nobs2 = -1, 1, 15\n",
    "\n",
    "print(\n",
    "    'Rejeita a hipótese nula: {}'.format(\n",
    "        ttest_ind_from_stats(\n",
    "            mean1, std1, nobs1, mean2, std2, nobs2, equal_var=False\n",
    "        )\n",
    "    )\n",
    ")"
   ]
  },
  {
   "cell_type": "markdown",
   "metadata": {},
   "source": [
    "Para realizar testes t bicaudais para a igualdade de médias com amostras pareadas, o módulo *stats* disponibiliza a função *ttest_rel*:"
   ]
  },
  {
   "cell_type": "code",
   "execution_count": 32,
   "metadata": {},
   "outputs": [
    {
     "name": "stdout",
     "output_type": "stream",
     "text": [
      "Rejeita a hipótese nula: Ttest_relResult(statistic=2.07798026408817, pvalue=0.042971567080910246)\n"
     ]
    }
   ],
   "source": [
    "from scipy.stats import ttest_rel\n",
    "np.random.seed(42)\n",
    "a = norm.rvs(loc=5, scale=10, size=50)\n",
    "b = norm.rvs(loc=0, scale=1, size=50)  # mesmo tamanho\n",
    "\n",
    "print(\n",
    "    'Rejeita a hipótese nula: {}'.format(ttest_rel(a, b))\n",
    ")"
   ]
  },
  {
   "cell_type": "markdown",
   "metadata": {},
   "source": [
    "O teste dos postos sinalizados de Wilcoxon é comumente tratado como uma versão não-paramétrica do teste t para amostras pareadas. Ele testa se a distribuição das diferenças entre as duas amostras é simétrica e centrada em zero. No módulo *stats*, esse teste é realizado pela função *wilcoxon* e inclui um parâmetro para escolha da cauda do teste, com padrão bicaudal (*two-sided*):"
   ]
  },
  {
   "cell_type": "code",
   "execution_count": 33,
   "metadata": {},
   "outputs": [
    {
     "name": "stdout",
     "output_type": "stream",
     "text": [
      "Rejeita a hipótese nula: WilcoxonResult(statistic=388.0, pvalue=0.016018532187551015)\n",
      "Rejeita a hipótese nula: WilcoxonResult(statistic=388.0, pvalue=0.016018532187551015)\n",
      "Não rejeita a hipótese nula: WilcoxonResult(statistic=388.0, pvalue=0.9919907339062245)\n",
      "Rejeita a hipótese nula: WilcoxonResult(statistic=388.0, pvalue=0.008009266093775507)\n"
     ]
    }
   ],
   "source": [
    "from scipy.stats import wilcoxon\n",
    "np.random.seed(42)\n",
    "a = norm.rvs(loc=5, scale=10, size=50)\n",
    "b = norm.rvs(loc=6, scale=1, size=50)\n",
    "\n",
    "print(\n",
    "    'Rejeita a hipótese nula: {}'.format(wilcoxon(a, b))\n",
    ")\n",
    "\n",
    "print(\n",
    "    'Rejeita a hipótese nula: {}'.format(\n",
    "        wilcoxon(a, b, alternative='two-sided')  # mesmo resultado\n",
    "    )\n",
    ")\n",
    "\n",
    "print(\n",
    "    'Não rejeita a hipótese nula: {}'.format(\n",
    "        wilcoxon(a, b, alternative='greater')\n",
    "    )\n",
    ")\n",
    "\n",
    "print(\n",
    "    'Rejeita a hipótese nula: {}'.format(\n",
    "        wilcoxon(a, b, alternative='less')\n",
    "    )\n",
    ")"
   ]
  },
  {
   "cell_type": "markdown",
   "metadata": {},
   "source": [
    "Para realizar o teste de Kolmogorov-Smirnov (KS) de bondade de ajuste é simples, basta informar uma amostra e o nome de uma distribuição disponível no módulo *stats* à função *kstest*:"
   ]
  },
  {
   "cell_type": "code",
   "execution_count": 34,
   "metadata": {},
   "outputs": [
    {
     "name": "stdout",
     "output_type": "stream",
     "text": [
      "Não rejeita a hipótese nula: KstestResult(statistic=0.13357070563896067, pvalue=0.3074515771790649)\n",
      "Rejeita a hipótese nula: KstestResult(statistic=0.6375899529148361, pvalue=2.827049477141131e-20)\n"
     ]
    }
   ],
   "source": [
    "from scipy.stats import kstest\n",
    "np.random.seed(42)\n",
    "\n",
    "a = norm.rvs(size=50)\n",
    "\n",
    "print(\n",
    "    'Não rejeita a hipótese nula: {}'.format(\n",
    "        kstest(a, 'norm')\n",
    "    )\n",
    ")\n",
    "\n",
    "a = norm.rvs(loc=5, scale=10, size=50)\n",
    "\n",
    "print(\n",
    "    'Rejeita a hipótese nula: {}'.format(\n",
    "        kstest(a, 'norm')\n",
    "    )\n",
    ")"
   ]
  },
  {
   "cell_type": "markdown",
   "metadata": {},
   "source": [
    "Note que nos exemplos acima, a hipótese nula foi rejeitada quando os dados não foram sorteados de uma normal padrão. Isso porque, como vimos acima, no SciPy, *norm* é a distribuição padrão. No entanto, ao invés de passar o nome da distribuição como parâmetro, podemos passar a função *cdf* de uma distribuição normal qualquer. Exemplo"
   ]
  },
  {
   "cell_type": "code",
   "execution_count": 35,
   "metadata": {},
   "outputs": [
    {
     "name": "stdout",
     "output_type": "stream",
     "text": [
      "Não rejeita a hipótese nula: KstestResult(statistic=0.08326080724304702, pvalue=0.878828192065557)\n"
     ]
    }
   ],
   "source": [
    "a = norm.rvs(loc=5, scale=10, size=50)\n",
    "\n",
    "normal = norm(loc=5, scale=10)\n",
    "print(\n",
    "    'Não rejeita a hipótese nula: {}'.format(\n",
    "        kstest(a, normal.cdf)\n",
    "    )\n",
    ")"
   ]
  },
  {
   "cell_type": "markdown",
   "metadata": {},
   "source": [
    "Para testar a hipótese de que duas amostras foram extraídas da mesma distribuição contínua, podemos usar o teste KS para duas amostras:"
   ]
  },
  {
   "cell_type": "code",
   "execution_count": 36,
   "metadata": {},
   "outputs": [
    {
     "name": "stdout",
     "output_type": "stream",
     "text": [
      "Não rejeita a hipótese nula: Ks_2sampResult(statistic=0.18, pvalue=0.3959398631708505)\n",
      "Rejeita a hipótese nula: Ks_2sampResult(statistic=0.68, pvalue=2.6679407140599687e-11)\n"
     ]
    }
   ],
   "source": [
    "from scipy.stats import ks_2samp\n",
    "\n",
    "a = norm.rvs(loc=5, scale=10, size=50)\n",
    "b = norm.rvs(loc=5, scale=10, size=50)\n",
    "\n",
    "print(\n",
    "    'Não rejeita a hipótese nula: {}'.format(\n",
    "        ks_2samp(a, b)\n",
    "    )\n",
    ")\n",
    "\n",
    "b = norm.rvs(size=50)\n",
    "\n",
    "print(\n",
    "    'Rejeita a hipótese nula: {}'.format(\n",
    "        ks_2samp(a, b)\n",
    "    )\n",
    ")"
   ]
  },
  {
   "cell_type": "code",
   "execution_count": null,
   "metadata": {},
   "outputs": [],
   "source": []
  }
 ],
 "metadata": {
  "kernelspec": {
   "display_name": "Python 3",
   "language": "python",
   "name": "python3"
  },
  "language_info": {
   "codemirror_mode": {
    "name": "ipython",
    "version": 3
   },
   "file_extension": ".py",
   "mimetype": "text/x-python",
   "name": "python",
   "nbconvert_exporter": "python",
   "pygments_lexer": "ipython3",
   "version": "3.7.3"
  }
 },
 "nbformat": 4,
 "nbformat_minor": 2
}