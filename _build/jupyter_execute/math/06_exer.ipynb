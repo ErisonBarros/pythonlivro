{
 "cells": [
  {
   "cell_type": "markdown",
   "metadata": {},
   "source": [
    "# Exercícios "
   ]
  },
  {
   "cell_type": "markdown",
   "metadata": {},
   "source": [
    "3.1. Use NumPy para gerar 1000 valores aleatórios em um vetor $\\vec{x}$. Depois gere um vetor $\\vec{y}$, tal que $y_i = 3x_i + 10 + e_i$, onde $e_i \\sim N(0, 1)$. Por fim, estime um modelo de regressão simples de $Y$ em função de $X$."
   ]
  },
  {
   "cell_type": "code",
   "execution_count": 1,
   "metadata": {},
   "outputs": [],
   "source": [
    "pass"
   ]
  },
  {
   "cell_type": "markdown",
   "metadata": {},
   "source": [
    "3.2. Faça uma função que gera uma matriz aleatória $X$ (escolha a distribuição) com $n$ linhas e $p$ colunas e um vetor $\\vec{y}$, cujos valores são função das linhas de $X$ com adição de ruído normal, de média $0$ e variância $1$, e.g. $y_i = 3x_{i1} + 5x_{i2} + 10 + e_i$, onde $e_i \\sim N(0, 1)$. Os parâmetros da função geradora devem incluir $n$, $p$ e a função geradora de $y$ (dica: use o operador **lambda**)."
   ]
  },
  {
   "cell_type": "code",
   "execution_count": 2,
   "metadata": {},
   "outputs": [],
   "source": [
    "pass"
   ]
  },
  {
   "cell_type": "markdown",
   "metadata": {},
   "source": [
    "3.3. Implemente uma classe *LinearRegression*, com os métodos:\n",
    "   * *fit* que recebe uma matriz $X$ e um vetor $\\vec{y}$ e ajusta uma regressão linear pelo [método dos mínimos quadrados](https://pt.wikipedia.org/wiki/M%C3%A9todo_dos_m%C3%ADnimos_quadrados), guardando os coeficientes e o intercept como atributos\n",
    "   * *predict* que recebe uma matriz $X$ e estima os valores $\\hat{y}$ correspondentes\n",
    "   * *score* que recebe uma matriz $X$ e um vetor $\\vec{y}$ e calcula o [erro quadrático médio](https://pt.wikipedia.org/wiki/Erro_quadr%C3%A1tico_m%C3%A9dio) de estimação\n",
    "   \n",
    "Use a função geradora da questão anterior para gerar $X_1$ e $\\vec{y}_1$ e ajustar o seu modelo e depois gerar $X_2$ e $\\vec{y}_2$ e avaliar o modelo ajustado."
   ]
  },
  {
   "cell_type": "code",
   "execution_count": 3,
   "metadata": {},
   "outputs": [],
   "source": [
    "pass"
   ]
  },
  {
   "cell_type": "markdown",
   "metadata": {},
   "source": [
    "3.4. Faça uma função que executa o exercício 3.3 em uma simulação de Monte Carlo com $m$ repetições, armazenando os erros de estimação dos $m$ modelos ajustados. A função deve retornar os $m$ valores de erros obtidos, sua média e seu desvio-padrão."
   ]
  },
  {
   "cell_type": "code",
   "execution_count": 4,
   "metadata": {},
   "outputs": [],
   "source": [
    "pass"
   ]
  },
  {
   "cell_type": "markdown",
   "metadata": {},
   "source": [
    "3.5. Faça uma função que aproxima a integral de uma função qualquer em um intervalo $[a, b]$, usando a [regra de Simpson](https://pt.wikipedia.org/wiki/Integra%C3%A7%C3%A3o_num%C3%A9rica). Use essa função em uma outra função que deve calcular $P(X < x_i)$, para $i = 1, \\ldots, n$, onde $X \\sim N(\\mu, \\sigma^2)$."
   ]
  },
  {
   "cell_type": "code",
   "execution_count": 5,
   "metadata": {},
   "outputs": [],
   "source": [
    "pass"
   ]
  },
  {
   "cell_type": "markdown",
   "metadata": {},
   "source": []
  }
 ],
 "metadata": {
  "kernelspec": {
   "display_name": "Python 3",
   "language": "python",
   "name": "python3"
  },
  "language_info": {
   "codemirror_mode": {
    "name": "ipython",
    "version": 3
   },
   "file_extension": ".py",
   "mimetype": "text/x-python",
   "name": "python",
   "nbconvert_exporter": "python",
   "pygments_lexer": "ipython3",
   "version": "3.7.3"
  }
 },
 "nbformat": 4,
 "nbformat_minor": 2
}