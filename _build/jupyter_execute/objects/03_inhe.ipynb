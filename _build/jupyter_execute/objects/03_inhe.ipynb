{
 "cells": [
  {
   "cell_type": "markdown",
   "metadata": {},
   "source": [
    "# Herança e Polimorfismo\n",
    "\n",
    "Herança é um mecanismo que permite basear uma classe em outra, mantendo uma implementação similar e formando uma hierarquia de classes. A classe derivada é chamada de subclasse enqunto a classe base é chamada de super classe. Um objeto de uma subclasse mantém todos os atributos e métodos definidos na super classe. O mecanismo de herança é útil quando certos comportamentos (métodos) iguai são esperados para objetos de diferentes tipos ou para facilitar o reuso de código. É importante diferenciar herança de composição de objetos. A composição se dá quando um objeto contém outro(s) objeto(s), ou seja, há uma relação de posse de um objeto para outro.\n",
    "\n",
    "Vejamos o exemplo abaixo:"
   ]
  },
  {
   "cell_type": "code",
   "execution_count": 1,
   "metadata": {},
   "outputs": [
    {
     "name": "stdout",
     "output_type": "stream",
     "text": [
      "################## Binomial ##################\n",
      "Média: 3.5\n",
      "Variância: 1.0500000000000003\n",
      "PMF de 2: 0.13230000000000006\n",
      "CDF de 2: 0.16308000000000009\n",
      "\n",
      "################## Poisson ##################\n",
      "Média: 5\n",
      "Variância: 5\n",
      "PMF de 2: 0.08422433748856836\n",
      "CDF de 2: 0.12465201948308118\n"
     ]
    }
   ],
   "source": [
    "import math\n",
    "\n",
    "class DiscreteDistribution:\n",
    "    \n",
    "    def __init__(self, params):\n",
    "        self.params = params\n",
    "        \n",
    "    def pmf(self, x):\n",
    "        pass\n",
    "    \n",
    "    def cdf(self, x):\n",
    "        total = 0\n",
    "        for v in range(x + 1):\n",
    "            total += self.pmf(v)\n",
    "        return total\n",
    "    \n",
    "    def mean(self):\n",
    "        pass\n",
    "    \n",
    "    def variance(self):\n",
    "        pass\n",
    "    \n",
    "class BinomialDistribution(DiscreteDistribution):\n",
    "    \n",
    "    def pmf(self, x):\n",
    "        \n",
    "        n, p = self.params['n'], self.params['p']\n",
    "        \n",
    "        def factorial(n):\n",
    "            prod = 1\n",
    "            for i in range(1, n + 1):\n",
    "                prod *= i\n",
    "            return prod\n",
    "\n",
    "        def combination(n, x):\n",
    "            return factorial(n) / (factorial(x) * factorial(n - x))\n",
    "\n",
    "        return combination(n, x) * p ** x * (1.0 - p) ** (n - x) \n",
    "    \n",
    "    def mean(self):\n",
    "        return self.params['n'] * self.params['p']\n",
    "    \n",
    "    def variance(self):\n",
    "        return self.params['n'] * self.params['p'] * (1 - self.params['p'])\n",
    "\n",
    "class PoissonDistribution(DiscreteDistribution):\n",
    "    \n",
    "    def pmf(self, x):\n",
    "        \n",
    "        l = self.params['lambda']\n",
    "        \n",
    "        def factorial(n):\n",
    "            prod = 1\n",
    "            for i in range(1, n + 1):\n",
    "                prod *= i\n",
    "            return prod\n",
    "\n",
    "        return (l ** x * math.e ** (-l)) / factorial(x)\n",
    "    \n",
    "    def mean(self):\n",
    "        return self.params['lambda']\n",
    "    \n",
    "    def variance(self):\n",
    "        return self.params['lambda']\n",
    "\n",
    "binomial = BinomialDistribution(params={'n': 5, 'p': 0.7})\n",
    "print('################## Binomial ##################')\n",
    "print('Média: {}'.format(binomial.mean()))\n",
    "print('Variância: {}'.format(binomial.variance()))\n",
    "print('PMF de 2: {}'.format(binomial.pmf(2)))\n",
    "print('CDF de 2: {}'.format(binomial.cdf(2)))\n",
    "\n",
    "print()\n",
    "\n",
    "poisson = PoissonDistribution(params={'lambda': 5})\n",
    "print('################## Poisson ##################')\n",
    "print('Média: {}'.format(poisson.mean()))\n",
    "print('Variância: {}'.format(poisson.variance()))\n",
    "print('PMF de 2: {}'.format(poisson.pmf(2)))\n",
    "print('CDF de 2: {}'.format(poisson.cdf(2)))"
   ]
  },
  {
   "cell_type": "markdown",
   "metadata": {},
   "source": [
    "O código acima define uma classe base, chamada *DiscreteDistribution*, cujo único atributo se chama *params* (uma coleção de parâmetros) e cujos métodos incluem o cálculo da função massa de probabilidade, da função distribuição acumulada, da média e da variância. O único método implementado nesta classe é o cálculo da função distribuição e o construtor. Os outros métodos possuem apenas a sua assinatura.\n",
    "\n",
    "Como subclasses dessa classe base (note o **nome da super classe entre parênteses** após o nome da subclasse), temos *BinomialDistribution* e *PoissonDistribution*. Ambas implementam os métodos *pmf*, *mean* e *variance* de acordo com a distribuição de probabilidade representada. Após declarar as subclasses, o código cria um objeto de cada uma delas e executa seus métodos. Note que, apesar de as subclases não declarararem o método *cdf* ambos, os objetos podem chamá-lo. Isto ocorre porque as subclasses herdam este método da sua superclasse. Note que, internamente, o método *cdf* chama o método *pmf*, cuja implementação ficou sob responsabilidade das subclasses. Isso significa que parte do comportamento do método *cdf* é modificado pelas implementações das subclasses. Em programação orientada a objetos, esse conceito (comportamentos parcialmente diferentes entre subclasses) é chamado de **polimorfismo**.\n",
    "\n",
    "Uma subclasse pode modificar a implementação de um método da superclasse total ou parcialmente. No exemplo abaixo, a subclasse PoissonDistribution irá modificar o método *cdf* para avisar que o cálculo foi feito usando a função massa da Poisson."
   ]
  },
  {
   "cell_type": "code",
   "execution_count": 2,
   "metadata": {},
   "outputs": [
    {
     "name": "stdout",
     "output_type": "stream",
     "text": [
      "Calculado usando pmf da Poisson\n",
      "CDF de 2: 0.12465201948308118\n"
     ]
    }
   ],
   "source": [
    "class PoissonDistribution(DiscreteDistribution):\n",
    "    \n",
    "    def pmf(self, x):\n",
    "        \n",
    "        l = self.params['lambda']\n",
    "        \n",
    "        def factorial(n):\n",
    "            prod = 1\n",
    "            for i in range(1, n + 1):\n",
    "                prod *= i\n",
    "            return prod\n",
    "\n",
    "        return (l ** x * math.e ** (-l)) / factorial(x)\n",
    "    \n",
    "    def cdf(self, x):\n",
    "        print('Calculado usando pmf da Poisson')\n",
    "        total = 0\n",
    "        for v in range(x + 1):\n",
    "            total += self.pmf(v)\n",
    "        return total\n",
    "    \n",
    "    def mean(self):\n",
    "        return self.params['lambda']\n",
    "    \n",
    "    def variance(self):\n",
    "        return self.params['lambda']\n",
    "\n",
    "poisson = PoissonDistribution(params={'lambda': 5})\n",
    "print('CDF de 2: {}'.format(poisson.cdf(2)))"
   ]
  },
  {
   "cell_type": "markdown",
   "metadata": {},
   "source": [
    "Note que todo o código da implementação do método *pmf* da superclasse foi copiado e apenas a linha *print('Calculado usando pmf da Poisson')* foi adicionada. Essa abordagem de codificação resultaria em muitos códigos copiados, o que é uma má prática. Para evitar isso, Python fornece um atalho para reutilizar a implementação de um método da superclasse: o operador **super**. Veja abaixo:"
   ]
  },
  {
   "cell_type": "code",
   "execution_count": 3,
   "metadata": {},
   "outputs": [
    {
     "name": "stdout",
     "output_type": "stream",
     "text": [
      "Calculado usando pmf da Poisson\n",
      "CDF de 2: 0.12465201948308118\n"
     ]
    }
   ],
   "source": [
    "class PoissonDistribution(DiscreteDistribution):\n",
    "    \n",
    "    def pmf(self, x):\n",
    "        \n",
    "        l = self.params['lambda']\n",
    "        \n",
    "        def factorial(n):\n",
    "            prod = 1\n",
    "            for i in range(1, n + 1):\n",
    "                prod *= i\n",
    "            return prod\n",
    "\n",
    "        return (l ** x * math.e ** (-l)) / factorial(x)\n",
    "    \n",
    "    def cdf(self, x):\n",
    "        print('Calculado usando pmf da Poisson')\n",
    "        return super().cdf(x)\n",
    "    \n",
    "    def mean(self):\n",
    "        return self.params['lambda']\n",
    "    \n",
    "    def variance(self):\n",
    "        return self.params['lambda']\n",
    "\n",
    "poisson = PoissonDistribution(params={'lambda': 5})\n",
    "print('CDF de 2: {}'.format(poisson.cdf(2)))"
   ]
  },
  {
   "cell_type": "markdown",
   "metadata": {},
   "source": [
    "Note que a função *factorial* foi definida duas vezes no nosso código: dentro do método *pmf* das duas subclasses. Para evitar essa cópia de código, podemos definí-la no escopo global: "
   ]
  },
  {
   "cell_type": "code",
   "execution_count": 4,
   "metadata": {},
   "outputs": [
    {
     "name": "stdout",
     "output_type": "stream",
     "text": [
      "################## Binomial ##################\n",
      "Média: 3.5\n",
      "Variância: 1.0500000000000003\n",
      "PMF de 2: 0.13230000000000006\n",
      "Calculado usando pmf da Poisson\n",
      "CDF de 2: 0.16308000000000009\n",
      "\n",
      "################## Poisson ##################\n",
      "Média: 5\n",
      "Variância: 5\n",
      "PMF de 2: 0.08422433748856836\n",
      "CDF de 2: 0.12465201948308118\n"
     ]
    }
   ],
   "source": [
    "def factorial(n):\n",
    "    prod = 1\n",
    "    for i in range(1, n + 1):\n",
    "        prod *= i\n",
    "    return prod\n",
    "        \n",
    "class BinomialDistribution(DiscreteDistribution):\n",
    "    \n",
    "    def pmf(self, x):\n",
    "        \n",
    "        n, p = self.params['n'], self.params['p']        \n",
    "\n",
    "        def combination(n, x):\n",
    "            return factorial(n) / (factorial(x) * factorial(n - x))\n",
    "\n",
    "        return combination(n, x) * p ** x * (1.0 - p) ** (n - x) \n",
    "    \n",
    "    \n",
    "    def cdf(self, x):\n",
    "        print('Calculado usando pmf da Poisson')\n",
    "        return super().cdf(x)\n",
    "    \n",
    "    def mean(self):\n",
    "        return self.params['n'] * self.params['p']\n",
    "    \n",
    "    def variance(self):\n",
    "        return self.params['n'] * self.params['p'] * (1 - self.params['p'])\n",
    "\n",
    "class PoissonDistribution(DiscreteDistribution):\n",
    "    \n",
    "    def pmf(self, x):\n",
    "        \n",
    "        l = self.params['lambda']\n",
    "\n",
    "        return (l ** x * math.e ** (-l)) / factorial(x)\n",
    "    \n",
    "    def mean(self):\n",
    "        return self.params['lambda']\n",
    "    \n",
    "    def variance(self):\n",
    "        return self.params['lambda']\n",
    "\n",
    "binomial = BinomialDistribution(params={'n': 5, 'p': 0.7})\n",
    "print('################## Binomial ##################')\n",
    "print('Média: {}'.format(binomial.mean()))\n",
    "print('Variância: {}'.format(binomial.variance()))\n",
    "print('PMF de 2: {}'.format(binomial.pmf(2)))\n",
    "print('CDF de 2: {}'.format(binomial.cdf(2)))\n",
    "\n",
    "print()\n",
    "\n",
    "poisson = PoissonDistribution(params={'lambda': 5})\n",
    "print('################## Poisson ##################')\n",
    "print('Média: {}'.format(poisson.mean()))\n",
    "print('Variância: {}'.format(poisson.variance()))\n",
    "print('PMF de 2: {}'.format(poisson.pmf(2)))\n",
    "print('CDF de 2: {}'.format(poisson.cdf(2)))"
   ]
  },
  {
   "cell_type": "markdown",
   "metadata": {},
   "source": [
    "## Herança múltipla\n",
    "\n",
    "Uma classe pode ser subclasse de várias classes ao mesmo tempo. Para isso, basta declarar os nomes das super classes separados por vírgulas. O código abaixo declara uma classe, chamada *Printable*, que possui apenas um método **__str__**, que retorna os parâmetros do objeto em uma string formatada. O método **__str__** é chamado por Python quando um objeto é passado como parâmetro para a função **print**. Após declarar a classe *Printable*, as classes das distribuições são declaradas novamente, dessa vez herdando de *DiscreteDistribution* e de *Printable*. Note que ambas as classes agora redefinem o construtor, adicionando o atributo *name*."
   ]
  },
  {
   "cell_type": "code",
   "execution_count": 5,
   "metadata": {},
   "outputs": [
    {
     "name": "stdout",
     "output_type": "stream",
     "text": [
      "Binomial com parâmetros n: 5 p: 0.7 \n",
      "Poisson com parâmetros lambda: 5 \n"
     ]
    }
   ],
   "source": [
    "class Printable:\n",
    "    def __str__(self):\n",
    "        s = self.name + ' com parâmetros '\n",
    "        for key in self.params:\n",
    "            s += '{0}: {1} '.format(key, self.params[key])\n",
    "        return s\n",
    "\n",
    "class BinomialDistribution(DiscreteDistribution, Printable):\n",
    "    \n",
    "    def __init__(self, params):\n",
    "        self.name = 'Binomial'\n",
    "        super().__init__(params)\n",
    "        \n",
    "    def pmf(self, x):\n",
    "        \n",
    "        n, p = self.params['n'], self.params['p']        \n",
    "\n",
    "        def combination(n, x):\n",
    "            return factorial(n) / (factorial(x) * factorial(n - x))\n",
    "\n",
    "        return combination(n, x) * p ** x * (1.0 - p) ** (n - x) \n",
    "    \n",
    "    \n",
    "    def cdf(self, x):\n",
    "        print('Calculado usando pmf da Poisson')\n",
    "        return super().cdf(x)\n",
    "    \n",
    "    def mean(self):\n",
    "        return self.params['n'] * self.params['p']\n",
    "    \n",
    "    def variance(self):\n",
    "        return self.params['n'] * self.params['p'] * (1 - self.params['p'])\n",
    "\n",
    "class PoissonDistribution(DiscreteDistribution, Printable):\n",
    "    \n",
    "    def __init__(self, params):\n",
    "        self.name = 'Poisson'\n",
    "        super().__init__(params)        \n",
    "    \n",
    "    def pmf(self, x):\n",
    "        \n",
    "        l = self.params['lambda']\n",
    "\n",
    "        return (l ** x * math.e ** (-l)) / factorial(x)\n",
    "    \n",
    "    def mean(self):\n",
    "        return self.params['lambda']\n",
    "    \n",
    "    def variance(self):\n",
    "        return self.params['lambda']\n",
    "\n",
    "binomial = BinomialDistribution(params={'n': 5, 'p': 0.7})\n",
    "print(binomial)\n",
    "poisson = PoissonDistribution(params={'lambda': 5})\n",
    "print(poisson)"
   ]
  },
  {
   "cell_type": "code",
   "execution_count": null,
   "metadata": {},
   "outputs": [],
   "source": []
  }
 ],
 "metadata": {
  "kernelspec": {
   "display_name": "Python 3",
   "language": "python",
   "name": "python3"
  },
  "language_info": {
   "codemirror_mode": {
    "name": "ipython",
    "version": 3
   },
   "file_extension": ".py",
   "mimetype": "text/x-python",
   "name": "python",
   "nbconvert_exporter": "python",
   "pygments_lexer": "ipython3",
   "version": "3.7.3"
  }
 },
 "nbformat": 4,
 "nbformat_minor": 2
}