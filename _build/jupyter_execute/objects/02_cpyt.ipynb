{
 "cells": [
  {
   "cell_type": "markdown",
   "metadata": {},
   "source": [
    "# Classes em Python\n",
    "\n",
    "Todos os valores são objetos em Python, dos mais básicos, como inteiros e booleanos, aos tipos mais complexos definidos por usuários, incluindo as funções (objetos do tipo função). Como vimos anteriormente, objetos são instâncias de classes, então para criar objetos, é preciso antes definir as classes. Para definir classes em Python, usa-se o operador **class**, seguido do nome da classe e dois pontos. No bloco de código associado à classe, pode-se declarar variáveis e funções. O código abaixo declara a classe *MyClass* com uma variável e uma função interna, chamadas *my_variable* e *my_func* respectivamente. O parâmetro **self** declarado na função *func* será explicado mais à frente. "
   ]
  },
  {
   "cell_type": "code",
   "execution_count": 1,
   "metadata": {},
   "outputs": [],
   "source": [
    "class MyClass:\n",
    "    my_variable = 10\n",
    "    \n",
    "    def my_func(self):\n",
    "        print('hello world')"
   ]
  },
  {
   "cell_type": "markdown",
   "metadata": {},
   "source": [
    "Para criar um objeto da classe *MyClass*, usa-se a mesma sintaxe de chamada de funções:"
   ]
  },
  {
   "cell_type": "code",
   "execution_count": 2,
   "metadata": {},
   "outputs": [],
   "source": [
    "my_object = MyClass()"
   ]
  },
  {
   "cell_type": "markdown",
   "metadata": {},
   "source": [
    "Com isso, a variável *my_object* agora representa uma instância, i.e. um objeto, da classe *MyClass*. Portanto, *my_object* tem acesso tanto à variável *my_variable*, quanto à função *my_func*, sendo possível acessá-las como segue:"
   ]
  },
  {
   "cell_type": "code",
   "execution_count": 3,
   "metadata": {},
   "outputs": [
    {
     "name": "stdout",
     "output_type": "stream",
     "text": [
      "10\n"
     ]
    }
   ],
   "source": [
    "print(my_object.my_variable)"
   ]
  },
  {
   "cell_type": "code",
   "execution_count": 4,
   "metadata": {},
   "outputs": [
    {
     "name": "stdout",
     "output_type": "stream",
     "text": [
      "hello world\n"
     ]
    }
   ],
   "source": [
    "my_object.my_func()"
   ]
  },
  {
   "cell_type": "markdown",
   "metadata": {},
   "source": [
    "É possível criar múltiplos objetos da mesma classe. Cada um deles conterá cópias independentes das variáveis e funções definidas na classe. Por exemplo, podemos criar mais um objeto da classe *MyClass*, chamado *b* e mudar o valor de *my_variable*:"
   ]
  },
  {
   "cell_type": "code",
   "execution_count": 5,
   "metadata": {},
   "outputs": [
    {
     "name": "stdout",
     "output_type": "stream",
     "text": [
      "10 15\n"
     ]
    }
   ],
   "source": [
    "b = MyClass()\n",
    "b.my_variable += 5\n",
    "\n",
    "print(my_object.my_variable, b.my_variable)"
   ]
  },
  {
   "cell_type": "markdown",
   "metadata": {},
   "source": [
    "Assim, *my_variable* representa um atributo dos objetos da classe *MyClass*. Como é esperado que diferentes objetos tenham valores diferentes em seus atributos, seria incoveniente se fosse necessário modificar os valores dos atributos após a criação de cada objeto, em outras palavras seria mais interessante que o valor dos atributos pudesse ser informado no momento da criação do objeto. Para isso, usa-se um método especial, chamado **\\_\\_init\\_\\_**, também conhecido como construtor. Uma classe com construtor pode ser definida da seguinte forma: "
   ]
  },
  {
   "cell_type": "code",
   "execution_count": 6,
   "metadata": {},
   "outputs": [],
   "source": [
    "class MyClass:\n",
    "    def __init__(self, value):\n",
    "        self.my_variable = value\n",
    "    \n",
    "    def my_func(self):\n",
    "        print('hello world')"
   ]
  },
  {
   "cell_type": "markdown",
   "metadata": {},
   "source": [
    "Quando uma classe é definida com um método **\\_\\_init\\_\\_**, a criação de novos objetos da classe automaticamente invoca **\\_\\_init\\_\\_** para cada novo objeto. Assim, uma nova instância pode ser criada como: "
   ]
  },
  {
   "cell_type": "code",
   "execution_count": 7,
   "metadata": {},
   "outputs": [
    {
     "name": "stdout",
     "output_type": "stream",
     "text": [
      "3\n"
     ]
    }
   ],
   "source": [
    "b = MyClass(3)\n",
    "print(b.my_variable)"
   ]
  },
  {
   "cell_type": "markdown",
   "metadata": {},
   "source": [
    "O primeiro parâmetro dos métodos **\\_\\_init\\_\\_** e *my_func* é o mesmo: **self**. O parâmetro **self** é uma referência ao próprio objeto, permitindo acesso aos identificadores definidos no *namespace* do objeto. No método **\\_\\_init\\_\\_**, a linha *self.my_variable = value* cria o atributo *my_variable* no *namespace* do objeto, com o valor passado como argumento. É isso que permite que o valor do atributo seja acessado como *b.my_variable*. Se uma outra variável fosse declarada dentro do método **\\_\\_init\\_\\_**, mas sem associá-la ao **self**, ela não ficaria acessível fora do método. Exemplo:"
   ]
  },
  {
   "cell_type": "code",
   "execution_count": 8,
   "metadata": {},
   "outputs": [
    {
     "ename": "AttributeError",
     "evalue": "'MyClass' object has no attribute 'other_variable'",
     "output_type": "error",
     "traceback": [
      "\u001b[0;31m---------------------------------------------------------------------------\u001b[0m",
      "\u001b[0;31mAttributeError\u001b[0m                            Traceback (most recent call last)",
      "\u001b[0;32m<ipython-input-8-b0b40be46e38>\u001b[0m in \u001b[0;36m<module>\u001b[0;34m\u001b[0m\n\u001b[1;32m      8\u001b[0m \u001b[0;34m\u001b[0m\u001b[0m\n\u001b[1;32m      9\u001b[0m \u001b[0mb\u001b[0m \u001b[0;34m=\u001b[0m \u001b[0mMyClass\u001b[0m\u001b[0;34m(\u001b[0m\u001b[0;36m3\u001b[0m\u001b[0;34m)\u001b[0m\u001b[0;34m\u001b[0m\u001b[0;34m\u001b[0m\u001b[0m\n\u001b[0;32m---> 10\u001b[0;31m \u001b[0mprint\u001b[0m\u001b[0;34m(\u001b[0m\u001b[0mb\u001b[0m\u001b[0;34m.\u001b[0m\u001b[0mother_variable\u001b[0m\u001b[0;34m)\u001b[0m\u001b[0;34m\u001b[0m\u001b[0;34m\u001b[0m\u001b[0m\n\u001b[0m",
      "\u001b[0;31mAttributeError\u001b[0m: 'MyClass' object has no attribute 'other_variable'"
     ]
    }
   ],
   "source": [
    "class MyClass:\n",
    "    def __init__(self, value):\n",
    "        self.my_variable = value\n",
    "        other_variable = 10\n",
    "    \n",
    "    def my_func(self):\n",
    "        print('hello world')\n",
    "\n",
    "b = MyClass(3)\n",
    "print(b.other_variable)"
   ]
  },
  {
   "cell_type": "markdown",
   "metadata": {},
   "source": [
    "Note que ao chamar um método de um objeto, não se deve passar um valor para o parâmetro **self**. Quando o método é chamado, **self** automaticamente se torna uma referência ao objeto associado. Além disso, **self** não é uma palavra reservada e não é obrigatório que o primeiro parâmetro chame-se **self**. Isso é apenas uma convenção."
   ]
  },
  {
   "cell_type": "code",
   "execution_count": 9,
   "metadata": {},
   "outputs": [
    {
     "name": "stdout",
     "output_type": "stream",
     "text": [
      "hi everyone\n"
     ]
    }
   ],
   "source": [
    "class MyClass:\n",
    "    def __init__(self, value):\n",
    "        self.my_variable = value\n",
    "        other_variable = 10\n",
    "    \n",
    "    def my_func(self):\n",
    "        print('hello world')\n",
    "    \n",
    "    def my_other_func(test, value):\n",
    "        print('hi {}'.format(value))\n",
    "        \n",
    "b = MyClass(3)\n",
    "b.my_other_func('everyone')"
   ]
  },
  {
   "cell_type": "markdown",
   "metadata": {},
   "source": [
    "Caso um método seja definido sem parâmetros, não haverá um primeiro parâmetro para atribuir a referência do objeto. Como consequência, o método não fará parte do *namespace* do objeto. Nesses casos, o método fica associado apenas ao *namespace* da classe. Exemplo:"
   ]
  },
  {
   "cell_type": "code",
   "execution_count": 10,
   "metadata": {},
   "outputs": [
    {
     "ename": "TypeError",
     "evalue": "my_third_func() takes 0 positional arguments but 1 was given",
     "output_type": "error",
     "traceback": [
      "\u001b[0;31m---------------------------------------------------------------------------\u001b[0m",
      "\u001b[0;31mTypeError\u001b[0m                                 Traceback (most recent call last)",
      "\u001b[0;32m<ipython-input-10-be0ef913fc24>\u001b[0m in \u001b[0;36m<module>\u001b[0;34m\u001b[0m\n\u001b[1;32m     17\u001b[0m \u001b[0;34m\u001b[0m\u001b[0m\n\u001b[1;32m     18\u001b[0m \u001b[0mb\u001b[0m \u001b[0;34m=\u001b[0m \u001b[0mMyClass\u001b[0m\u001b[0;34m(\u001b[0m\u001b[0;36m3\u001b[0m\u001b[0;34m)\u001b[0m\u001b[0;34m\u001b[0m\u001b[0;34m\u001b[0m\u001b[0m\n\u001b[0;32m---> 19\u001b[0;31m \u001b[0mb\u001b[0m\u001b[0;34m.\u001b[0m\u001b[0mmy_third_func\u001b[0m\u001b[0;34m(\u001b[0m\u001b[0;34m)\u001b[0m\u001b[0;34m\u001b[0m\u001b[0;34m\u001b[0m\u001b[0m\n\u001b[0m",
      "\u001b[0;31mTypeError\u001b[0m: my_third_func() takes 0 positional arguments but 1 was given"
     ]
    }
   ],
   "source": [
    "class MyClass:\n",
    "    def __init__(self, value):\n",
    "        self.my_variable = value\n",
    "        other_variable = 10\n",
    "    \n",
    "    def my_func(self):\n",
    "        print('hello world')\n",
    "    \n",
    "    def my_other_func(test, value):\n",
    "        print('hi {}'.format(value))\n",
    "    \n",
    "    def my_third_func():\n",
    "        print('hi world')\n",
    "    \n",
    "    def my_fourth_func(value1, value2):\n",
    "        print(value1 + value2)\n",
    "        \n",
    "b = MyClass(3)\n",
    "b.my_third_func()"
   ]
  },
  {
   "cell_type": "code",
   "execution_count": 11,
   "metadata": {},
   "outputs": [
    {
     "name": "stdout",
     "output_type": "stream",
     "text": [
      "hi world\n"
     ]
    }
   ],
   "source": [
    "MyClass.my_third_func()"
   ]
  },
  {
   "cell_type": "markdown",
   "metadata": {},
   "source": [
    "O quarto método acima, *my_fourth_function*, possui dois parâmetros. Portanto, se ele for chamado por meio de um objeto, o primeiro parâmetro será atribuído à referência do objeto, o que gerará um erro de quantidade incorreta de parâmetros:"
   ]
  },
  {
   "cell_type": "code",
   "execution_count": 12,
   "metadata": {},
   "outputs": [
    {
     "ename": "TypeError",
     "evalue": "my_fourth_func() takes 2 positional arguments but 3 were given",
     "output_type": "error",
     "traceback": [
      "\u001b[0;31m---------------------------------------------------------------------------\u001b[0m",
      "\u001b[0;31mTypeError\u001b[0m                                 Traceback (most recent call last)",
      "\u001b[0;32m<ipython-input-12-4071b474f7a3>\u001b[0m in \u001b[0;36m<module>\u001b[0;34m\u001b[0m\n\u001b[0;32m----> 1\u001b[0;31m \u001b[0mb\u001b[0m\u001b[0;34m.\u001b[0m\u001b[0mmy_fourth_func\u001b[0m\u001b[0;34m(\u001b[0m\u001b[0;36m10\u001b[0m\u001b[0;34m,\u001b[0m \u001b[0;36m5\u001b[0m\u001b[0;34m)\u001b[0m\u001b[0;34m\u001b[0m\u001b[0;34m\u001b[0m\u001b[0m\n\u001b[0m",
      "\u001b[0;31mTypeError\u001b[0m: my_fourth_func() takes 2 positional arguments but 3 were given"
     ]
    }
   ],
   "source": [
    "b.my_fourth_func(10, 5)"
   ]
  },
  {
   "cell_type": "markdown",
   "metadata": {},
   "source": [
    "Note que o método existe no *namespace* do objeto, mas nesse caso ele associa o parâmetro *value1* à referência do objeto e espera apenas que o parâmetro *value2* receba algum valor. No *namespace* da classe, no entanto, o método pode ser chamado com um valor para cada parâmetro:"
   ]
  },
  {
   "cell_type": "code",
   "execution_count": 13,
   "metadata": {},
   "outputs": [
    {
     "name": "stdout",
     "output_type": "stream",
     "text": [
      "15\n"
     ]
    }
   ],
   "source": [
    "MyClass.my_fourth_func(10, 5)"
   ]
  },
  {
   "cell_type": "markdown",
   "metadata": {},
   "source": [
    "Python permite a \"injeção\" dinâmica de atributos. Ou seja, é possível atribuir um valor a um atributo que não foi declarado na definição da classe. Exemplo:"
   ]
  },
  {
   "cell_type": "code",
   "execution_count": 14,
   "metadata": {},
   "outputs": [
    {
     "name": "stdout",
     "output_type": "stream",
     "text": [
      "23"
     ]
    },
    {
     "name": "stdout",
     "output_type": "stream",
     "text": [
      "\n"
     ]
    }
   ],
   "source": [
    "b.new_attribute = 23\n",
    "\n",
    "print(b.new_attribute)"
   ]
  },
  {
   "cell_type": "code",
   "execution_count": null,
   "metadata": {},
   "outputs": [],
   "source": []
  }
 ],
 "metadata": {
  "kernelspec": {
   "display_name": "Python 3",
   "language": "python",
   "name": "python3"
  },
  "language_info": {
   "codemirror_mode": {
    "name": "ipython",
    "version": 3
   },
   "file_extension": ".py",
   "mimetype": "text/x-python",
   "name": "python",
   "nbconvert_exporter": "python",
   "pygments_lexer": "ipython3",
   "version": "3.7.3"
  }
 },
 "nbformat": 4,
 "nbformat_minor": 2
}