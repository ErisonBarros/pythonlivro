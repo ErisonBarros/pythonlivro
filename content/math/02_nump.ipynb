{
 "cells": [
  {
   "cell_type": "markdown",
   "metadata": {},
   "source": [
    "# NumPy\n",
    "\n",
    "NumPy é um pacote fundamental para computação científica em Python, sendo usado como base para praticamente todos os outros. Suas capacidades incluem uma poderosa classe *array*, que pode representar vetores e matrizes, sofisticadas funções para manipulação de *arrays*, ferramentas para integração de códigos em C/C++ e Fortran, além de funções de álgebra linear e de geração de números aleatórios. Os *arrays* de NumPy também podem ser usados para armazenar dados de tipos genéricos, permitindo fácil integração com diferentes tipos de bases e bancos de dados. A documentação completa para todas as versões de NumPy pode ser encontrada em [numpy.org/doc](https://numpy.org/doc).\n",
    "\n",
    "## A classe *array*\n",
    "\n",
    "A classe *array* é o principal componente de NumPy e representa uma lista homogênea multidimensional, na forma de uma tabela de elementos (normalmente números), todos do mesmo tipo, indexada por tuplas de inteiros positivos. Um dimensão de um *array* é chamada de eixo (*axis*). Abaixo, temos dois exemplos de *arrays* (note sua criação por meio de listas):"
   ]
  },
  {
   "cell_type": "code",
   "execution_count": 1,
   "metadata": {},
   "outputs": [
    {
     "name": "stdout",
     "output_type": "stream",
     "text": [
      "3 int64\n",
      "(2, 3) 2 float64\n",
      "[[1. 0. 1.]\n",
      " [0. 1. 2.]]\n"
     ]
    }
   ],
   "source": [
    "import numpy as np\n",
    "\n",
    "a = np.array([1, 2, 1])  # Uma dimensão, 3 elementos, tipo inteiro\n",
    "b = np.array([\n",
    "    [1., 0., 1.], \n",
    "    [0., 1., 2.]\n",
    "])  # Duas dimensões, a primeira com tamanho 2 e a segunda com tamanho 3, tipo ponto flutuante\n",
    "\n",
    "print(len(a), a.dtype)\n",
    "print(b.shape, len(b), b.dtype)\n",
    "print(b)"
   ]
  },
  {
   "cell_type": "markdown",
   "metadata": {},
   "source": [
    "A biblioteca padrão de Python também tem uma classe *array.array*, mas ela serve apenas pra casos unidimensionais e oferece menos funcionalidades. Os atributos mais importantes do *array* de numpy incluem:\n",
    "\n",
    "   * array.ndim: o número de eixos do *array*\n",
    "   * array.shape: as dimensões do *array* na forma de uma tupla indicando o tamanho de cada dimensão; matriz $n \\times m$ possui shape $(n, m)$\n",
    "   * array.size: o número total de elementos no *array*\n",
    "   * array.dtype: o tipo dos elementos do *array*\n",
    "\n",
    "### Criando *arrays*\n",
    "\n",
    "A criação de um *array* pode ser feita usando listas ou tuplas, com o tipo dos dados sendo deduzido através dos tpos dos elementos da sequência. Uma lista de listas resultará em um *array* bidimensional, uma lista de listas de listas dará um *array* tridimensional e assim por diante. É possível especificar o tipo do *array* na hora da criação:"
   ]
  },
  {
   "cell_type": "code",
   "execution_count": 2,
   "metadata": {},
   "outputs": [
    {
     "name": "stdout",
     "output_type": "stream",
     "text": [
      "[[1.+0.j 0.+0.j 1.+0.j]\n",
      " [0.+0.j 1.+0.j 2.+0.j]]\n"
     ]
    }
   ],
   "source": [
    "b = np.array(\n",
    "    [\n",
    "        [1., 0., 1.], \n",
    "        [0., 1., 2.]\n",
    "    ],\n",
    "    dtype=complex\n",
    ")\n",
    "print(b)"
   ]
  },
  {
   "cell_type": "markdown",
   "metadata": {},
   "source": [
    "Frequentemente é necessario criar *arrays* com um tamanho definido e valores iniciais que serão posteriormente modificados. Para isso, NumPy fornece diversas funções, incluindo a função *zeros*, que cria um *array* preenchido com zeros; *ones*, que cria um *array* preenchido com uns; *empty*, que cria um *array* cujo conteúdo inicial é aleatório e depende do estado da memória; e *eye*, que cria uma matriz identidade."
   ]
  },
  {
   "cell_type": "code",
   "execution_count": 3,
   "metadata": {},
   "outputs": [
    {
     "name": "stdout",
     "output_type": "stream",
     "text": [
      "[[0. 0. 0. 0.]\n",
      " [0. 0. 0. 0.]\n",
      " [0. 0. 0. 0.]]\n",
      "\n",
      "[[1. 1. 1. 1.]\n",
      " [1. 1. 1. 1.]\n",
      " [1. 1. 1. 1.]]\n",
      "\n",
      "[[1. 1. 1. 1.]\n",
      " [1. 1. 1. 1.]\n",
      " [1. 1. 1. 1.]]\n",
      "\n",
      "[[1 0 0]\n",
      " [0 1 0]\n",
      " [0 0 1]]\n"
     ]
    }
   ],
   "source": [
    "print(np.zeros((3, 4)))  # Note que as dimensões são passadas como uma tupla\n",
    "print()\n",
    "print(np.ones((3, 4)))\n",
    "print()\n",
    "print(np.empty((3, 4)))  # Saída pode variar\n",
    "print()\n",
    "print(np.eye(3, dtype=np.int32))  # Basta passar uma dimensão, pois a matriz será quadrada"
   ]
  },
  {
   "cell_type": "markdown",
   "metadata": {},
   "source": [
    "Para criar sequências de números, pode-se usar a função *arange*, que é análoga à função *range*, mas retorna *arrays* e aceita criar intervalos de pontos flutuantes."
   ]
  },
  {
   "cell_type": "code",
   "execution_count": 4,
   "metadata": {},
   "outputs": [
    {
     "name": "stdout",
     "output_type": "stream",
     "text": [
      "[ 5 10 15]\n",
      "\n",
      "[0.  0.4 0.8 1.2 1.6]\n"
     ]
    }
   ],
   "source": [
    "print(np.arange(5, 20, 5))\n",
    "print()\n",
    "print(np.arange(0, 2, 0.4))"
   ]
  },
  {
   "cell_type": "markdown",
   "metadata": {},
   "source": [
    "Devido a possíveis problemas de arredondamento, não é sempre possível saber quantos elementos serão gerados pela função *arange* ao receber pontos flutuantes como parâmetros. Nesses casos, é melhor usar a função *linspace*, que recebe como argumentos o início, o fim (inclusivo) e o número de valores desejados no intervalo."
   ]
  },
  {
   "cell_type": "code",
   "execution_count": 5,
   "metadata": {},
   "outputs": [
    {
     "name": "stdout",
     "output_type": "stream",
     "text": [
      "[0.    0.125 0.25  0.375 0.5   0.625 0.75  0.875 1.   ]\n"
     ]
    }
   ],
   "source": [
    "print(np.linspace(0, 1, 9))  # 9 números começando em 0 e terminando em 1"
   ]
  },
  {
   "cell_type": "markdown",
   "metadata": {},
   "source": [
    "A função *linspace* é útil para avaliar funções em muitos pontos."
   ]
  },
  {
   "cell_type": "code",
   "execution_count": 47,
   "metadata": {},
   "outputs": [
    {
     "data": {
      "image/png": "[encoded data removed]",
      "text/plain": [
       "<Figure size 432x288 with 1 Axes>"
      ]
     },
     "metadata": {},
     "output_type": "display_data"
    }
   ],
   "source": [
    "import matplotlib.pyplot as plt\n",
    "\n",
    "x = np.linspace(0, 2 * np.pi, 100)\n",
    "f = np.sin(x)\n",
    "\n",
    "plt.plot(x, f)\n",
    "plt.show()"
   ]
  },
  {
   "cell_type": "markdown",
   "metadata": {},
   "source": [
    "### Operações básicas\n",
    "\n",
    "Operações aritméticas com *arrays* sempre são aplicadas elemento-a-elemento, criando um novo *array* como resultado:"
   ]
  },
  {
   "cell_type": "code",
   "execution_count": 7,
   "metadata": {},
   "outputs": [
    {
     "name": "stdout",
     "output_type": "stream",
     "text": [
      "[10 20 30 40]\n",
      "[0 1 2 3]\n",
      "\n",
      "[10 19 28 37]\n",
      "\n",
      "[0 1 4 9]\n",
      "\n",
      "[ True  True False False]\n",
      "\n",
      "[  0  20  60 120]\n"
     ]
    }
   ],
   "source": [
    "a = np.array([10, 20, 30, 40])\n",
    "print(a)\n",
    "b = np.arange(4)\n",
    "print(b)\n",
    "print()\n",
    "\n",
    "c = a - b\n",
    "print(c)\n",
    "print()\n",
    "\n",
    "print(b ** 2)\n",
    "print()\n",
    "\n",
    "print(a < 25)\n",
    "print()\n",
    "\n",
    "print(a * b)"
   ]
  },
  {
   "cell_type": "markdown",
   "metadata": {},
   "source": [
    "O operador '\\*' multiplica os *arrays* através dos elementos. Para realizar a multiplicação de matrizes, pode-se usar o operador '@', a função *dot* do NumPy, ou o método *dot* do *array*:"
   ]
  },
  {
   "cell_type": "code",
   "execution_count": 8,
   "metadata": {},
   "outputs": [
    {
     "name": "stdout",
     "output_type": "stream",
     "text": [
      "[[2 2]\n",
      " [0 2]]\n",
      "[[2 2]\n",
      " [0 2]]\n",
      "[[2 2]\n",
      " [0 2]]\n"
     ]
    }
   ],
   "source": [
    "A = np.array(\n",
    "    [\n",
    "        [1, 1],\n",
    "        [0, 1]\n",
    "    ]\n",
    ")\n",
    "\n",
    "B = np.array(\n",
    "    [\n",
    "        [2, 0],\n",
    "        [0, 2]\n",
    "    ]\n",
    ")\n",
    "\n",
    "print(A @ B)\n",
    "print(np.dot(A, B))\n",
    "print(A.dot(B))"
   ]
  },
  {
   "cell_type": "markdown",
   "metadata": {},
   "source": [
    "Algumas operações, como as de atribuição aritmética \"+=\" e \"\\*=\", modificam o *array* diretamente, ao invés de criar outro com o resultado."
   ]
  },
  {
   "cell_type": "code",
   "execution_count": 9,
   "metadata": {},
   "outputs": [
    {
     "name": "stdout",
     "output_type": "stream",
     "text": [
      "[[2 2]\n",
      " [1 2]]\n"
     ]
    }
   ],
   "source": [
    "A = np.array(\n",
    "    [\n",
    "        [1, 1],\n",
    "        [0, 1]\n",
    "    ]\n",
    ")\n",
    "\n",
    "A += 1\n",
    "\n",
    "print(A)"
   ]
  },
  {
   "cell_type": "markdown",
   "metadata": {},
   "source": [
    "Operações com *arrays* de tipos diferentes resultam em um *array* do tipo mais geral ou preciso (*upcasting*). Exemplo:"
   ]
  },
  {
   "cell_type": "code",
   "execution_count": 10,
   "metadata": {},
   "outputs": [
    {
     "name": "stdout",
     "output_type": "stream",
     "text": [
      "float64\n"
     ]
    }
   ],
   "source": [
    "a = np.ones(3, dtype=int)\n",
    "b = np.ones(3, dtype=float)\n",
    "\n",
    "print((a + b).dtype)"
   ]
  },
  {
   "cell_type": "markdown",
   "metadata": {},
   "source": [
    "Muitas operações são computadas como métodos da classe *array*, por exemplo a soma de todos os elementos, a média ou o desvio-padrão:"
   ]
  },
  {
   "cell_type": "code",
   "execution_count": 11,
   "metadata": {},
   "outputs": [
    {
     "name": "stdout",
     "output_type": "stream",
     "text": [
      "[[0.56158829 0.91454421 0.23877309]\n",
      " [0.19370395 0.70284271 0.51461163]\n",
      " [0.37636627 0.45531543 0.04124243]\n",
      " [0.34445926 0.61154048 0.34299231]\n",
      " [0.04922684 0.11645763 0.25313178]]\n",
      "Soma: 5.716796321294855, Média: 0.38111975475299037, Desvio-padrão: 0.24046330289202403\n"
     ]
    }
   ],
   "source": [
    "a = np.random.random((5, 3))\n",
    "print(a)\n",
    "print(\n",
    "    'Soma: {}, Média: {}, Desvio-padrão: {}'.format(\n",
    "        a.sum(), a.mean(), a.std()\n",
    "    )\n",
    ")"
   ]
  },
  {
   "cell_type": "markdown",
   "metadata": {},
   "source": [
    "Por padrão, essas operações são computadas sobre todos os elementos do *array*, independente das suas dimensões. No entanto, é possível especificar a dimensão desejada, usando o parâmetro *axis*, como mostra o código abaixo:"
   ]
  },
  {
   "cell_type": "code",
   "execution_count": 12,
   "metadata": {},
   "outputs": [
    {
     "name": "stdout",
     "output_type": "stream",
     "text": [
      "[1.52534461 2.80070047 1.39075124]\n",
      "[0.5716352  0.4703861  0.29097471 0.43299735 0.13960542]\n",
      "[[0.56158829 0.91454421 0.23877309]\n",
      " [0.75529224 1.61738692 0.75338472]\n",
      " [1.13165851 2.07270235 0.79462716]\n",
      " [1.47611777 2.68424284 1.13761947]\n",
      " [1.52534461 2.80070047 1.39075124]]\n"
     ]
    }
   ],
   "source": [
    "print(a.sum(axis=0)) # soma de cada coluna\n",
    "print(a.mean(axis=1))  # média de cada linha  \n",
    "print(a.cumsum(axis=0))  # soma acumulada de cada coluna"
   ]
  },
  {
   "cell_type": "markdown",
   "metadata": {},
   "source": [
    "### Indexando e iterando sobre elementos\n",
    "\n",
    "*Arrays* unidimensionais podem ser indexados, fatiados e iterados exatamente como listas e outras coleções."
   ]
  },
  {
   "cell_type": "code",
   "execution_count": 13,
   "metadata": {},
   "outputs": [
    {
     "name": "stdout",
     "output_type": "stream",
     "text": [
      "[ 0  1  4  9 16 25 36 49]\n",
      "\n",
      "4\n",
      "\n",
      "[ 4  9 16]\n",
      "\n",
      "[-1000     1 -1000     9    16    25    36    49]\n",
      "\n",
      "[   49    36    25    16     9 -1000     1 -1000]\n",
      "\n",
      "-2000\n",
      "2\n",
      "-2000\n",
      "18\n",
      "32\n",
      "50\n",
      "72\n",
      "98\n"
     ]
    }
   ],
   "source": [
    "a = np.arange(8) ** 2\n",
    "print(a)\n",
    "print()\n",
    "\n",
    "print(a[2])\n",
    "print()\n",
    "\n",
    "print(a[2:5])\n",
    "print()\n",
    "\n",
    "a[:4:2] = -1000\n",
    "print(a)\n",
    "print()\n",
    "\n",
    "print(a[ : :-1])\n",
    "print()\n",
    "\n",
    "for i in a:\n",
    "    print(i * 2)"
   ]
  },
  {
   "cell_type": "markdown",
   "metadata": {},
   "source": [
    "*Arrays* multidimensionais podem receber um índice ou fatia por eixo, informados em uma tupla. Por exemplo:"
   ]
  },
  {
   "cell_type": "code",
   "execution_count": 14,
   "metadata": {},
   "outputs": [
    {
     "name": "stdout",
     "output_type": "stream",
     "text": [
      "[[0.07489686 0.28572925 0.34133296 0.60608669]\n",
      " [0.64732036 0.71219846 0.02004947 0.07484049]\n",
      " [0.51457105 0.32221637 0.69862139 0.13726139]\n",
      " [0.76717015 0.92525099 0.16176712 0.76877957]\n",
      " [0.95633851 0.22549198 0.44136868 0.29954868]]\n",
      "\n",
      "0.13726139370459955\n",
      "\n",
      "[0.28572925 0.71219846 0.32221637 0.92525099 0.22549198]\n",
      "\n",
      "[0.28572925 0.71219846 0.32221637 0.92525099]\n",
      "\n",
      "[[0.64732036 0.71219846 0.02004947 0.07484049]\n",
      " [0.51457105 0.32221637 0.69862139 0.13726139]]\n"
     ]
    }
   ],
   "source": [
    "b = np.random.random((5, 4))\n",
    "print(b)\n",
    "print()\n",
    "\n",
    "print(b[2, 3])  # Elemento na terceira linha e quarta coluna\n",
    "print()\n",
    "\n",
    "print(b[:, 1])  # A segunda coluna inteira\n",
    "print()\n",
    "\n",
    "print(b[:4, 1])  # Do primeiro ao quarto elemento da segunda coluna      \n",
    "print()\n",
    "\n",
    "print(b[1:3, :])  # Todas as colunas da segunda à terceira linha              "
   ]
  },
  {
   "cell_type": "markdown",
   "metadata": {},
   "source": [
    "Quando os índices forem fornecidos em uma tupla menor do que o número de eixos, os índices que não forem fornecidos são considerados fatias completas, i.e. \":\". Os índices faltantes também podem ser representados por reticências. Exemplo:"
   ]
  },
  {
   "cell_type": "code",
   "execution_count": 15,
   "metadata": {},
   "outputs": [
    {
     "name": "stdout",
     "output_type": "stream",
     "text": [
      "[0.95633851 0.22549198 0.44136868 0.29954868]\n",
      "[0.95633851 0.22549198 0.44136868 0.29954868]\n",
      "[0.95633851 0.22549198 0.44136868 0.29954868]\n"
     ]
    }
   ],
   "source": [
    "print(b[-1])\n",
    "print(b[-1, :])\n",
    "print(b[-1, ...])"
   ]
  },
  {
   "cell_type": "markdown",
   "metadata": {},
   "source": [
    "NumPy oferece mais formas de indexar os seus *arrays*, usando listas ou *arrays* de inteiros ou booleanos. Quando o *array* *b* é multidimensional, a indexação usando uma única lista de índices se refere à primeira dimensão de *b*."
   ]
  },
  {
   "cell_type": "code",
   "execution_count": 16,
   "metadata": {},
   "outputs": [
    {
     "name": "stdout",
     "output_type": "stream",
     "text": [
      "[[0.07489686 0.28572925 0.34133296 0.60608669]\n",
      " [0.64732036 0.71219846 0.02004947 0.07484049]\n",
      " [0.51457105 0.32221637 0.69862139 0.13726139]\n",
      " [0.76717015 0.92525099 0.16176712 0.76877957]\n",
      " [0.95633851 0.22549198 0.44136868 0.29954868]]\n",
      "\n",
      "[[0.64732036 0.71219846 0.02004947 0.07484049]\n",
      " [0.95633851 0.22549198 0.44136868 0.29954868]]\n",
      "\n",
      "[[0.28572925 0.34133296]\n",
      " [0.71219846 0.02004947]\n",
      " [0.32221637 0.69862139]\n",
      " [0.92525099 0.16176712]\n",
      " [0.22549198 0.44136868]]\n",
      "\n",
      "[0.71219846 0.44136868]\n",
      "\n",
      "[[0.71219846 0.02004947]\n",
      " [0.22549198 0.44136868]]\n",
      "\n",
      "[[0.71219846 0.02004947]\n",
      " [0.22549198 0.44136868]]\n",
      "\n",
      "[[0.07489686 0.28572925 0.34133296 0.60608669]\n",
      " [0.64732036 0.         0.         0.07484049]\n",
      " [0.51457105 0.32221637 0.69862139 0.13726139]\n",
      " [0.76717015 0.92525099 0.16176712 0.76877957]\n",
      " [0.95633851 0.         0.         0.29954868]]\n"
     ]
    }
   ],
   "source": [
    "print(b)\n",
    "print()\n",
    "\n",
    "print(b[[1, 4]])  # Segunda e quinta linhas da matriz b, equivale a b[[1, 4], :]\n",
    "print()\n",
    "\n",
    "print(b[:, [1, 2]])  # Segunda e terceira colunas da matriz b\n",
    "print()\n",
    "\n",
    "print(b[[1, 4], [1, 2]])  # Indexação pareada, equivale a [b[1,1], b[4, 2]]\n",
    "print()\n",
    "\n",
    "i = [\n",
    "    [1, 1],\n",
    "    [4, 4]\n",
    "]\n",
    "j = [\n",
    "    [1, 2],\n",
    "    [1, 2]\n",
    "]\n",
    "\n",
    "print(b[i, j])  # Indexação pareada, segunda e terceira colunas da segunda e quinta linhas\n",
    "print()\n",
    "\n",
    "print(b[\n",
    "    [[1], [4]],  # Equivale a b[i, j], note que o array\n",
    "    [1, 2]       # de índices do primeiro eixo é bidimensional\n",
    "])\n",
    "print()\n",
    "\n",
    "b[i, j] = 0  # As posições indexadas podem receber valores\n",
    "print(b)"
   ]
  },
  {
   "cell_type": "markdown",
   "metadata": {},
   "source": [
    "Para indexar *arrays* usando *arrays* ou listas de booleanos, pode-se usar um *array* com exatamente a mesma quantidade de elementos que o *array* indexado. Isso pode ser muito útil para fazer atribuições. Exemplo:"
   ]
  },
  {
   "cell_type": "code",
   "execution_count": 17,
   "metadata": {},
   "outputs": [
    {
     "name": "stdout",
     "output_type": "stream",
     "text": [
      "[[ True  True  True False]\n",
      " [False  True  True  True]\n",
      " [False  True False  True]\n",
      " [False False  True False]\n",
      " [False  True  True  True]]\n",
      "\n",
      "[0.07489686 0.28572925 0.34133296 0.         0.         0.07484049\n",
      " 0.32221637 0.13726139 0.16176712 0.         0.         0.29954868]\n",
      "\n",
      "[[0.         0.         0.         0.60608669]\n",
      " [0.64732036 0.         0.         0.        ]\n",
      " [0.51457105 0.         0.69862139 0.        ]\n",
      " [0.76717015 0.92525099 0.         0.76877957]\n",
      " [0.95633851 0.         0.         0.        ]]\n"
     ]
    }
   ],
   "source": [
    "a = b < 0.5\n",
    "\n",
    "print(a)\n",
    "print()\n",
    "\n",
    "print(b[a])  # array unidimensional com os elementos selecionados\n",
    "print()\n",
    "\n",
    "b[a] = 0\n",
    "print(b)"
   ]
  },
  {
   "cell_type": "markdown",
   "metadata": {},
   "source": [
    "Também é possível indexar cada dimensão usando *arrays* unidimensionais de booleanos com o mesmo tamanho da dimensão indexada:"
   ]
  },
  {
   "cell_type": "code",
   "execution_count": 18,
   "metadata": {},
   "outputs": [
    {
     "name": "stdout",
     "output_type": "stream",
     "text": [
      "[[0.         0.         0.         0.60608669]\n",
      " [0.51457105 0.         0.69862139 0.        ]]\n",
      "\n",
      "[[0.         0.        ]\n",
      " [0.64732036 0.        ]\n",
      " [0.51457105 0.        ]\n",
      " [0.76717015 0.92525099]\n",
      " [0.95633851 0.        ]]\n",
      "\n",
      "[0. 0.]\n",
      "\n"
     ]
    }
   ],
   "source": [
    "b1 = np.array([True, False, True, False, False])\n",
    "b2 = np.array([True, True, False, False])\n",
    "\n",
    "print(b[b1])  # Equivale a b[b1, :]\n",
    "print()\n",
    "\n",
    "print(b[:, b2])\n",
    "print()\n",
    "\n",
    "print(b[b1,b2])\n",
    "print()"
   ]
  },
  {
   "cell_type": "markdown",
   "metadata": {},
   "source": [
    "Iterações sobre *arrays* multidimensionais são feitas ao longo do primeiro eixo:"
   ]
  },
  {
   "cell_type": "code",
   "execution_count": 19,
   "metadata": {},
   "outputs": [
    {
     "name": "stdout",
     "output_type": "stream",
     "text": [
      "[0.         0.         0.         0.60608669]\n",
      "[0.64732036 0.         0.         0.        ]\n",
      "[0.51457105 0.         0.69862139 0.        ]\n",
      "[0.76717015 0.92525099 0.         0.76877957]\n",
      "[0.95633851 0.         0.         0.        ]\n"
     ]
    }
   ],
   "source": [
    "for row in b:\n",
    "    print(row)"
   ]
  },
  {
   "cell_type": "markdown",
   "metadata": {},
   "source": [
    "### Redimensionando *arrays*\n",
    "\n",
    "Como vimos acima, o tamanho das dimensões do *array* pode ser obtido por meio do atributo *shape*:"
   ]
  },
  {
   "cell_type": "code",
   "execution_count": 20,
   "metadata": {},
   "outputs": [
    {
     "name": "stdout",
     "output_type": "stream",
     "text": [
      "[ 0  1  2  3  4  5  6  7  8  9 10 11]\n",
      "(12,)\n"
     ]
    }
   ],
   "source": [
    "a = np.arange(12)\n",
    "print(a)\n",
    "print(a.shape)"
   ]
  },
  {
   "cell_type": "markdown",
   "metadata": {},
   "source": [
    "No entanto, a forma do *array* não é fixa e pode ser modificada de diversas formas, retornando um novo *array* com os mesmos elementos do *array* original, mas reposicionados para se adequar à nova forma."
   ]
  },
  {
   "cell_type": "code",
   "execution_count": 21,
   "metadata": {},
   "outputs": [
    {
     "name": "stdout",
     "output_type": "stream",
     "text": [
      "[[ 0  1  2]\n",
      " [ 3  4  5]\n",
      " [ 6  7  8]\n",
      " [ 9 10 11]]\n",
      "\n",
      "[ 0  1  2  3  4  5  6  7  8  9 10 11]\n",
      "\n",
      "[[ 0  3  6  9]\n",
      " [ 1  4  7 10]\n",
      " [ 2  5  8 11]]\n",
      "\n"
     ]
    }
   ],
   "source": [
    "c = a.reshape(4, 3)\n",
    "print(c)\n",
    "print()\n",
    "\n",
    "print(c.ravel())  # retorna o array \"achatado\" \n",
    "print()\n",
    "\n",
    "print(c.T)  # retorna o array transposto\n",
    "print()"
   ]
  },
  {
   "cell_type": "markdown",
   "metadata": {},
   "source": [
    "A função *reshape* retorna um novo *array*. Para modificar o próprio *array*, pode-se usar a função *resize*:"
   ]
  },
  {
   "cell_type": "code",
   "execution_count": 22,
   "metadata": {},
   "outputs": [
    {
     "name": "stdout",
     "output_type": "stream",
     "text": [
      "[[ 0  1  2]\n",
      " [ 3  4  5]\n",
      " [ 6  7  8]\n",
      " [ 9 10 11]]\n"
     ]
    }
   ],
   "source": [
    "a.resize(4, 3)\n",
    "print(a)"
   ]
  },
  {
   "cell_type": "markdown",
   "metadata": {},
   "source": [
    "Se alguma dimensão receber o valor *-1* para uma operação de redimensionamento, o seu novo tamanho será automaticamente calculado. Por exemplo, se quisermos que *a* tenha *2* linhas e o número necessário de colunas, podemos fazer:"
   ]
  },
  {
   "cell_type": "code",
   "execution_count": 23,
   "metadata": {},
   "outputs": [
    {
     "data": {
      "text/plain": [
       "array([[ 0,  1,  2,  3,  4,  5],\n",
       "       [ 6,  7,  8,  9, 10, 11]])"
      ]
     },
     "execution_count": 23,
     "metadata": {},
     "output_type": "execute_result"
    }
   ],
   "source": [
    "a.reshape(2, -1)"
   ]
  },
  {
   "cell_type": "markdown",
   "metadata": {},
   "source": [
    "Se tentarmos tranpor um *array* unidimensional usando o atributo *T*, ele continuará sendo unidimensional. Portanto, para realizar a transposição, podemos usar o método *reshape*, com *-1* no número de linhas, gerando um vetor coluna com o número necessário de linhas:"
   ]
  },
  {
   "cell_type": "code",
   "execution_count": 24,
   "metadata": {},
   "outputs": [
    {
     "name": "stdout",
     "output_type": "stream",
     "text": [
      "[ 0  1  2  3  4  5  6  7  8  9 10 11]\n",
      "[ 0  1  2  3  4  5  6  7  8  9 10 11]\n",
      "[[ 0]\n",
      " [ 1]\n",
      " [ 2]\n",
      " [ 3]\n",
      " [ 4]\n",
      " [ 5]\n",
      " [ 6]\n",
      " [ 7]\n",
      " [ 8]\n",
      " [ 9]\n",
      " [10]\n",
      " [11]]\n"
     ]
    }
   ],
   "source": [
    "a = np.arange(12)\n",
    "print(a)\n",
    "print(a.T)\n",
    "print(a.reshape(-1, 1))"
   ]
  },
  {
   "cell_type": "markdown",
   "metadata": {},
   "source": [
    "Outra forma de transpor um *array* unidimensional para obter um vetor coluna é usando o atalho de NumPy para criar novos eixos:"
   ]
  },
  {
   "cell_type": "code",
   "execution_count": 25,
   "metadata": {},
   "outputs": [
    {
     "data": {
      "text/plain": [
       "array([[ 0],\n",
       "       [ 1],\n",
       "       [ 2],\n",
       "       [ 3],\n",
       "       [ 4],\n",
       "       [ 5],\n",
       "       [ 6],\n",
       "       [ 7],\n",
       "       [ 8],\n",
       "       [ 9],\n",
       "       [10],\n",
       "       [11]])"
      ]
     },
     "execution_count": 25,
     "metadata": {},
     "output_type": "execute_result"
    }
   ],
   "source": [
    "a[:, np.newaxis]"
   ]
  },
  {
   "cell_type": "markdown",
   "metadata": {},
   "source": [
    "### Concatenando *arrays*\n",
    "\n",
    "As funções *vstack* e *hstack* permitem concatenar dois ou mais *arrays* verticalmente e horizontalmente, respectivamente:"
   ]
  },
  {
   "cell_type": "code",
   "execution_count": 26,
   "metadata": {},
   "outputs": [
    {
     "name": "stdout",
     "output_type": "stream",
     "text": [
      "[[0.         1.        ]\n",
      " [2.         3.        ]\n",
      " [4.         5.        ]\n",
      " [0.50141141 0.87359307]\n",
      " [0.48425233 0.60395912]\n",
      " [0.69012221 0.34917156]]\n",
      "\n",
      "[[0.         1.         0.50141141 0.87359307]\n",
      " [2.         3.         0.48425233 0.60395912]\n",
      " [4.         5.         0.69012221 0.34917156]]\n"
     ]
    }
   ],
   "source": [
    "a = np.arange(6).reshape(3, 2)\n",
    "b = np.random.random((3, 2))\n",
    "\n",
    "print(np.vstack((a, b)))\n",
    "print()\n",
    "\n",
    "print(np.hstack((a, b)))"
   ]
  },
  {
   "cell_type": "markdown",
   "metadata": {},
   "source": [
    "A função *column_stack* concatena dois ou mais *arrays* unidimensionais na forma de colunas em um array 2D resultante:"
   ]
  },
  {
   "cell_type": "code",
   "execution_count": 27,
   "metadata": {},
   "outputs": [
    {
     "name": "stdout",
     "output_type": "stream",
     "text": [
      "[[0.         0.98972958]\n",
      " [1.         0.33092818]\n",
      " [2.         0.63970443]]\n",
      "\n",
      "[0.         1.         2.         0.98972958 0.33092818 0.63970443]\n"
     ]
    }
   ],
   "source": [
    "a = np.arange(3)\n",
    "b = np.random.random(3)\n",
    "\n",
    "print(np.column_stack((a, b)))\n",
    "print()\n",
    "\n",
    "print(np.hstack((a, b)))  # resultado diferente"
   ]
  },
  {
   "cell_type": "markdown",
   "metadata": {},
   "source": [
    "Essas funções de concatenação são todas casos especiais de uso mais comum da função *concatenate*, que permite definir o eixo sobre o qual ocorrerá a concatenação."
   ]
  },
  {
   "cell_type": "markdown",
   "metadata": {},
   "source": [
    "### Cópias e vistas\n",
    "\n",
    "Ao operar com *arrays*, os dados são às vezes copiados em um novo *array* e às vezes não, o que pode confundir iniciantes. Por exemplo, atribuições simples não criam cópias do *array*, i.e. elas apenas criam ponteiros para o mesmo objeto:"
   ]
  },
  {
   "cell_type": "code",
   "execution_count": 28,
   "metadata": {},
   "outputs": [
    {
     "name": "stdout",
     "output_type": "stream",
     "text": [
      "True\n",
      "(3, 4)\n"
     ]
    }
   ],
   "source": [
    "a = np.arange(12)\n",
    "b = a\n",
    "print(b is a)\n",
    "\n",
    "b.shape = 3,4  # outra forma de mudar a forma de um array\n",
    "print(a.shape)  # o comando acima muda a forma de a também"
   ]
  },
  {
   "cell_type": "markdown",
   "metadata": {},
   "source": [
    "Ao chamar funções, Python passa objetos mutáveis como referências, portanto quando um *array* é passado como argumento para uma função, o mesmo objeto estará disponível no escopo da função chamada:"
   ]
  },
  {
   "cell_type": "code",
   "execution_count": 29,
   "metadata": {},
   "outputs": [
    {
     "name": "stdout",
     "output_type": "stream",
     "text": [
      "140062443582288\n",
      "140062443582288\n"
     ]
    }
   ],
   "source": [
    "def f(x):\n",
    "    print(id(x))\n",
    "\n",
    "print(id(a))\n",
    "f(a)"
   ]
  },
  {
   "cell_type": "markdown",
   "metadata": {},
   "source": [
    "O método *view* cria um novo objeto, mas esse novo objeto \"olha\" para os mesmos dados, ou seja, ele é uma \"vista\". Vejamos:"
   ]
  },
  {
   "cell_type": "code",
   "execution_count": 30,
   "metadata": {},
   "outputs": [
    {
     "name": "stdout",
     "output_type": "stream",
     "text": [
      "False\n",
      "True\n",
      "(3, 4)\n",
      "[[   0    1    2    3]\n",
      " [1234    5    6    7]\n",
      " [   8    9   10   11]]\n"
     ]
    }
   ],
   "source": [
    "c = a.view()\n",
    "print(c is a)\n",
    "print(c.base is a)\n",
    "\n",
    "c.shape = 2,6\n",
    "print(a.shape)  # a não muda de forma\n",
    "\n",
    "c[0,4] = 1234  # muda em a também\n",
    "print(a)"
   ]
  },
  {
   "cell_type": "markdown",
   "metadata": {},
   "source": [
    "Uma fatia de um *array* retorna uma vista:"
   ]
  },
  {
   "cell_type": "code",
   "execution_count": 31,
   "metadata": {},
   "outputs": [
    {
     "name": "stdout",
     "output_type": "stream",
     "text": [
      "[[   0   10   10    3]\n",
      " [1234   10   10    7]\n",
      " [   8   10   10   11]]\n"
     ]
    }
   ],
   "source": [
    "s = a[:,1:3]\n",
    "s[:] = 10\n",
    "\n",
    "print(a)"
   ]
  },
  {
   "cell_type": "markdown",
   "metadata": {},
   "source": [
    "Para obter uma cópia independente de um *array*, usa-se o método *copy*:"
   ]
  },
  {
   "cell_type": "code",
   "execution_count": 32,
   "metadata": {},
   "outputs": [
    {
     "name": "stdout",
     "output_type": "stream",
     "text": [
      "False\n",
      "False\n",
      "[[   0   10   10    3]\n",
      " [1234   10   10    7]\n",
      " [   8   10   10   11]]\n"
     ]
    }
   ],
   "source": [
    "d = a.copy()\n",
    "print(d is a)\n",
    "print(d.base is a)  # d não compartilha dados com a\n",
    "\n",
    "d[0,0] = 9999\n",
    "print(a)"
   ]
  },
  {
   "cell_type": "markdown",
   "metadata": {},
   "source": [
    "## Álgebra linear\n",
    "\n",
    "A maior parte das funções de álgebra linear de NumPy estão disponíveis no módulo *np.linalg*. Algumas funções importantes incluem calcular a inversa de uma matriz:"
   ]
  },
  {
   "cell_type": "code",
   "execution_count": 33,
   "metadata": {},
   "outputs": [
    {
     "name": "stdout",
     "output_type": "stream",
     "text": [
      "[[-2.   1. ]\n",
      " [ 1.5 -0.5]]\n"
     ]
    }
   ],
   "source": [
    "a = np.array([[1.0, 2.0], [3.0, 4.0]])\n",
    "print(np.linalg.inv(a))"
   ]
  },
  {
   "cell_type": "markdown",
   "metadata": {},
   "source": [
    "Calcular a pseudoinversa de uma matriz (se a matriz for invertível, a inversa será calculada):"
   ]
  },
  {
   "cell_type": "code",
   "execution_count": 34,
   "metadata": {},
   "outputs": [
    {
     "name": "stdout",
     "output_type": "stream",
     "text": [
      "[[-2.   1. ]\n",
      " [ 1.5 -0.5]]\n"
     ]
    }
   ],
   "source": [
    "print(np.linalg.pinv(a))"
   ]
  },
  {
   "cell_type": "markdown",
   "metadata": {},
   "source": [
    "Calcular o determinante e o traço de uma matriz:"
   ]
  },
  {
   "cell_type": "code",
   "execution_count": 35,
   "metadata": {},
   "outputs": [
    {
     "name": "stdout",
     "output_type": "stream",
     "text": [
      "-2.0000000000000004\n",
      "5.0\n"
     ]
    }
   ],
   "source": [
    "print(np.linalg.det(a))\n",
    "print(np.trace(a))  # o traço está disponível no próprio np"
   ]
  },
  {
   "cell_type": "markdown",
   "metadata": {},
   "source": [
    "Obter a diagonal de uma matriz como um vetor:"
   ]
  },
  {
   "cell_type": "code",
   "execution_count": 36,
   "metadata": {},
   "outputs": [
    {
     "data": {
      "text/plain": [
       "array([1., 4.])"
      ]
     },
     "execution_count": 36,
     "metadata": {},
     "output_type": "execute_result"
    }
   ],
   "source": [
    "np.diag(a)"
   ]
  },
  {
   "cell_type": "markdown",
   "metadata": {},
   "source": [
    "Obter uma matriz diagonal a partir de um vetor:"
   ]
  },
  {
   "cell_type": "code",
   "execution_count": 37,
   "metadata": {},
   "outputs": [
    {
     "data": {
      "text/plain": [
       "array([[1., 0.],\n",
       "       [0., 4.]])"
      ]
     },
     "execution_count": 37,
     "metadata": {},
     "output_type": "execute_result"
    }
   ],
   "source": [
    "np.diag(np.diag(a))"
   ]
  },
  {
   "cell_type": "markdown",
   "metadata": {},
   "source": [
    "Resolve rum sistema de equações lineares:"
   ]
  },
  {
   "cell_type": "code",
   "execution_count": 38,
   "metadata": {},
   "outputs": [
    {
     "data": {
      "text/plain": [
       "array([[-3.],\n",
       "       [ 4.]])"
      ]
     },
     "execution_count": 38,
     "metadata": {},
     "output_type": "execute_result"
    }
   ],
   "source": [
    "y = np.array([[5.0], [7.0]])\n",
    "np.linalg.solve(a, y)"
   ]
  },
  {
   "cell_type": "markdown",
   "metadata": {},
   "source": [
    "Encontrar os autovalores e os autovetores de uma matriz:"
   ]
  },
  {
   "cell_type": "code",
   "execution_count": 39,
   "metadata": {},
   "outputs": [
    {
     "data": {
      "text/plain": [
       "(array([-0.37228132,  5.37228132]), array([[-0.82456484, -0.41597356],\n",
       "        [ 0.56576746, -0.90937671]]))"
      ]
     },
     "execution_count": 39,
     "metadata": {},
     "output_type": "execute_result"
    }
   ],
   "source": [
    "np.linalg.eig(a)  # retorna uma tupla (autovalores, autovetores)"
   ]
  },
  {
   "cell_type": "markdown",
   "metadata": {},
   "source": [
    "## Ordenando *arrays*\n",
    "\n",
    "NumPy oferece algumas funções para ordenar *arrays*. A principal delas é a função *sort*, que retorna uma cópia ordenada do *array* passado como parâmetro:"
   ]
  },
  {
   "cell_type": "code",
   "execution_count": 40,
   "metadata": {},
   "outputs": [
    {
     "name": "stdout",
     "output_type": "stream",
     "text": [
      "[-4 -1  0  1  2  7  9 12 13]\n"
     ]
    }
   ],
   "source": [
    "a = np.array([12, 9, 13, -1, 0, -4, 2, 7, 1])\n",
    "print(np.sort(a))"
   ]
  },
  {
   "cell_type": "markdown",
   "metadata": {},
   "source": [
    "Caso *a* seja um *array* multidimensional, pode-se usar o parâmetro *axis* para indicar através de qual eixo a ordenação deve ser feita. "
   ]
  },
  {
   "cell_type": "code",
   "execution_count": 41,
   "metadata": {},
   "outputs": [
    {
     "name": "stdout",
     "output_type": "stream",
     "text": [
      "[-4 -1  0  1  2  7  9 12 13]\n",
      "[[-1  0 -4]\n",
      " [ 2  7  1]\n",
      " [12  9 13]]\n",
      "[[ 9 12 13]\n",
      " [-4 -1  0]\n",
      " [ 1  2  7]]\n"
     ]
    }
   ],
   "source": [
    "b = np.array([[12, 9, 13], [-1, 0, -4], [2, 7, 1]])\n",
    "print(np.sort(b, axis=None))  # se axis for None, o array é aplainado antes de ordenar\n",
    "print(np.sort(b, axis=0))  # axis=0 irá ordenar através das linhas\n",
    "print(np.sort(b, axis=1))  # axis=1 irá ordenar através das colunas"
   ]
  },
  {
   "cell_type": "markdown",
   "metadata": {},
   "source": [
    "Também é possível escolher o algoritmo de ordenação usando o parâmetro *kind* (cujo valor padrão é 'quicksort'):"
   ]
  },
  {
   "cell_type": "code",
   "execution_count": 42,
   "metadata": {},
   "outputs": [
    {
     "name": "stdout",
     "output_type": "stream",
     "text": [
      "[-4 -1  0  1  2  7  9 12 13]\n"
     ]
    }
   ],
   "source": [
    "print(np.sort(a, kind='mergesort'))"
   ]
  },
  {
   "cell_type": "markdown",
   "metadata": {},
   "source": [
    "Outra função importante é *argsort*, que ao invés de retornar o *array* ordenado, retorna os índices do *array* nas posições corretas para ordená-lo. A função *argsort* aceita os mesmos parâmetros da função *sort*."
   ]
  },
  {
   "cell_type": "code",
   "execution_count": 43,
   "metadata": {},
   "outputs": [
    {
     "name": "stdout",
     "output_type": "stream",
     "text": [
      "[12  9 13 -1  0 -4  2  7  1]\n",
      "[5 3 4 8 6 7 1 0 2]\n",
      "[-4 -1  0  1  2  7  9 12 13]\n",
      "\n",
      "[[1 0 1]\n",
      " [2 2 0]\n",
      " [0 1 2]]\n"
     ]
    }
   ],
   "source": [
    "print(a)\n",
    "print(np.argsort(a))\n",
    "print(a[np.argsort(a)])\n",
    "print()\n",
    "\n",
    "b = np.array([\n",
    "    [12, 0, 1], \n",
    "    [-1, 9, -4], \n",
    "    [2, 7, 13]\n",
    "])\n",
    "print(np.argsort(b, axis=0))"
   ]
  },
  {
   "cell_type": "markdown",
   "metadata": {},
   "source": [
    "## Buscando valores\n",
    "\n",
    "As funções *amax* e *amin* retornam o menor e o maior valor do *array*, respectivamente. Naturalmente, é possível definir o eixo desejado usando o parâmetro *axis*."
   ]
  },
  {
   "cell_type": "code",
   "execution_count": 44,
   "metadata": {},
   "outputs": [
    {
     "name": "stdout",
     "output_type": "stream",
     "text": [
      "13\n",
      "-4\n",
      "\n",
      "[12  9 13]\n",
      "[ 0 -4  2]\n"
     ]
    }
   ],
   "source": [
    "b = np.array([\n",
    "    [12, 0, 1], \n",
    "    [-1, 9, -4], \n",
    "    [2, 7, 13]\n",
    "])\n",
    "\n",
    "print(np.amax(b))\n",
    "print(np.amin(b))\n",
    "print()\n",
    "\n",
    "print(np.amax(b, axis=0))  # maior elemento de cada coluna\n",
    "print(np.amin(b, axis=1))  # menor elemento de cada linha"
   ]
  },
  {
   "cell_type": "markdown",
   "metadata": {},
   "source": [
    "De maneira similar à função *argsort*, as funções *argmax* e *argmin* retornam os índices do maior ou do menor elemeno do *array* respectivamente, sendo possível definir o eixo desejado."
   ]
  },
  {
   "cell_type": "code",
   "execution_count": 45,
   "metadata": {},
   "outputs": [
    {
     "name": "stdout",
     "output_type": "stream",
     "text": [
      "8\n",
      "5\n",
      "\n",
      "[0 1 2]\n",
      "[1 2 0]\n"
     ]
    }
   ],
   "source": [
    "print(np.argmax(b))  # considera o array aplainado (b.ravel())\n",
    "print(np.argmin(b))\n",
    "print()\n",
    "\n",
    "print(np.argmax(b, axis=0))  # índice do maior elemento de cada coluna\n",
    "print(np.argmin(b, axis=1))  # índice do menor elemento de cada linha"
   ]
  },
  {
   "cell_type": "markdown",
   "metadata": {},
   "source": [
    "Uma outra função importante para encontrar valores em um *array* é a função *where*, que retorna uma tupla com os índices em que uma condição é verdadeira."
   ]
  },
  {
   "cell_type": "code",
   "execution_count": 46,
   "metadata": {},
   "outputs": [
    {
     "name": "stdout",
     "output_type": "stream",
     "text": [
      "[[12  0  1]\n",
      " [-1  9 -4]\n",
      " [ 2  7 13]]\n",
      "[[False  True  True]\n",
      " [ True False  True]\n",
      " [ True False False]]\n",
      "(array([0, 0, 1, 1, 2]), array([1, 2, 0, 2, 0]))\n"
     ]
    }
   ],
   "source": [
    "print(b)\n",
    "print(b < 5)\n",
    "print(np.where(b < 5))"
   ]
  },
  {
   "cell_type": "markdown",
   "metadata": {},
   "source": [
    "## Geração de números aleatórios\n",
    "\n",
    "NumPy fornece diversas funções de geração de números aleatórios por meio do pacote *random*. Por exemplo, para gerar números no intervalo \\[0.0, 1.0) uniformemente, pode-se usar a função *random*:"
   ]
  },
  {
   "cell_type": "code",
   "execution_count": 52,
   "metadata": {},
   "outputs": [
    {
     "name": "stdout",
     "output_type": "stream",
     "text": [
      "0.22308618591500362\n",
      "[0.17372546 0.93596624 0.96880746]\n",
      "[[0.10932841 0.94618762]\n",
      " [0.24079747 0.44990437]\n",
      " [0.23531846 0.78875791]]\n"
     ]
    }
   ],
   "source": [
    "print(np.random.random())  # apenas um número\n",
    "print(np.random.random(3))  # vetor com 3 números aleatórios\n",
    "print(np.random.random((3, 2)))  # matriz aleatória 3x2"
   ]
  },
  {
   "cell_type": "markdown",
   "metadata": {},
   "source": [
    "Para gerar inteiros uniformemente no intervalo \\[a, b), pode-se usar a função *randint*:"
   ]
  },
  {
   "cell_type": "code",
   "execution_count": 54,
   "metadata": {},
   "outputs": [
    {
     "name": "stdout",
     "output_type": "stream",
     "text": [
      "3\n",
      "4\n",
      "[[2 4]\n",
      " [3 3]\n",
      " [3 4]]\n"
     ]
    }
   ],
   "source": [
    "print(np.random.randint(2, 5))  # inteiro em [2, 5)\n",
    "print(np.random.randint(5))  # inteiro em [0, 5)\n",
    "print(np.random.randint(2, 5, (3, 2)))  # matriz aleatória 3x2 em [2, 5)"
   ]
  },
  {
   "cell_type": "markdown",
   "metadata": {},
   "source": [
    "Para obter uma amostra aleatória de um *array*, usa-se a função *choice*:"
   ]
  },
  {
   "cell_type": "code",
   "execution_count": 65,
   "metadata": {},
   "outputs": [
    {
     "name": "stdout",
     "output_type": "stream",
     "text": [
      "[0 1 2 3 4 5 6 7]\n",
      "\n",
      "5\n",
      "\n",
      "[1 5 3]\n",
      "\n",
      "[[5 1]\n",
      " [6 4]\n",
      " [0 0]]\n",
      "\n",
      "[2 3 4]\n",
      "\n",
      "[7 6 3]\n",
      "\n",
      "3\n"
     ]
    }
   ],
   "source": [
    "a = np.arange(8)\n",
    "print(a)\n",
    "print()\n",
    "print(np.random.choice(a))  # um elemento aleatório de a\n",
    "print()\n",
    "print(np.random.choice(a, 3))  # três elementos aleatórios de a\n",
    "print()\n",
    "print(np.random.choice(a, (3, 2)))  # seis elementos aleatórios de a na forma 3x2\n",
    "print()\n",
    "print(np.random.choice(a, 3, replace=False))  # três elementos aleatórios de a sem reposição\n",
    "print()\n",
    "print(\n",
    "    np.random.choice(\n",
    "        a, \n",
    "        3, \n",
    "        replace=False,\n",
    "        p=a/np.sum(a)\n",
    "    )\n",
    ")  # três elementos aleatórios de a sem reposição e com diferentes probabilidades\n",
    "print()\n",
    "print(np.random.choice(5))  # um elemento aleatório no range(5)"
   ]
  },
  {
   "cell_type": "markdown",
   "metadata": {},
   "source": [
    "Para embaralhar os elementos de um *array*, pode-se usar a função *shuffle*, que modifica o próprio *array*, i.e. não retorna um novo *array* como resultado. Exemplo:"
   ]
  },
  {
   "cell_type": "code",
   "execution_count": 66,
   "metadata": {},
   "outputs": [
    {
     "name": "stdout",
     "output_type": "stream",
     "text": [
      "[ 5  4  6 10  3  9  7  8  2 11  1  0]\n"
     ]
    }
   ],
   "source": [
    "a = np.arange(12)\n",
    "\n",
    "np.random.shuffle(a)\n",
    "print(a)"
   ]
  },
  {
   "cell_type": "markdown",
   "metadata": {},
   "source": [
    "*Arrays* multidimensionais são embaralhados apenas no primeiro eixo:"
   ]
  },
  {
   "cell_type": "code",
   "execution_count": 75,
   "metadata": {},
   "outputs": [
    {
     "name": "stdout",
     "output_type": "stream",
     "text": [
      "[[ 0  1  2  3]\n",
      " [ 4  5  6  7]\n",
      " [ 8  9 10 11]]\n",
      "[[ 0  1  2  3]\n",
      " [ 8  9 10 11]\n",
      " [ 4  5  6  7]]\n"
     ]
    }
   ],
   "source": [
    "a = np.arange(12).reshape(3, 4)\n",
    "print(a)\n",
    "np.random.shuffle(a)\n",
    "print(a)"
   ]
  },
  {
   "cell_type": "markdown",
   "metadata": {},
   "source": [
    "Por curiosidade, para embaralhar também as colunas em um *array* 2D, pode-se usar a função de programação funcional *apply_along_axis*, que aplica uma função a um eixo do *array*."
   ]
  },
  {
   "cell_type": "code",
   "execution_count": 76,
   "metadata": {},
   "outputs": [
    {
     "name": "stdout",
     "output_type": "stream",
     "text": [
      "[[ 8  9  6 11]\n",
      " [ 0  5 10  3]\n",
      " [ 4  1  2  7]]\n",
      "\n",
      "[[11  9  8  6]\n",
      " [ 0 10  5  3]\n",
      " [ 2  4  7  1]]\n"
     ]
    }
   ],
   "source": [
    "np.apply_along_axis(np.random.shuffle, 0, a)\n",
    "print(a)\n",
    "print()\n",
    "np.apply_along_axis(np.random.shuffle, 1, a)\n",
    "print(a)"
   ]
  },
  {
   "cell_type": "markdown",
   "metadata": {},
   "source": [
    "De forma similar à função *shuffle*, a função *permutation* também embaralha os conteúdos de um *array*, no entanto ela retorna um novo *array* como resultado. Caso o *array* seja multidimensional, ela também só embaralha o primeiro eixo. Uma diferença em relação à função *shuffle* é que ela pode receber como parâmetro um inteiro *x*, ao invés de um *array*. Nesse caso, ela retornará uma permutação do **range**(*x*)."
   ]
  },
  {
   "cell_type": "code",
   "execution_count": 81,
   "metadata": {},
   "outputs": [
    {
     "name": "stdout",
     "output_type": "stream",
     "text": [
      "[ 0  1  2  3  4  5  6  7  8  9 10 11]\n",
      "[10  1  9  8  2 11  5  0  4  7  3  6]\n",
      "[ 0  1  2  3  4  5  6  7  8  9 10 11]\n",
      "\n",
      "[1 3 7 6 0 4 9 8 2 5]\n"
     ]
    }
   ],
   "source": [
    "a = np.arange(12)\n",
    "print(a)\n",
    "print(np.random.permutation(a))\n",
    "print(a)\n",
    "print()\n",
    "print(np.random.permutation(10))"
   ]
  },
  {
   "cell_type": "markdown",
   "metadata": {},
   "source": [
    "Em simulações estatísticas e experimentos, é fundamental que os resultados sejam reproduzíveis. Para isso, é preciso que os valores aleatórios gerados durante a execução sejam os mesmos sempre que script for executado. Para isso, pode-se determinar a \"semente\" do gerador de números pseudoaleatórios do NumPy, usando a função *random.seed*. Por exemplo: número gerado pelo código abaixo será sempre o mesmo."
   ]
  },
  {
   "cell_type": "code",
   "execution_count": 83,
   "metadata": {},
   "outputs": [
    {
     "name": "stdout",
     "output_type": "stream",
     "text": [
      "0.3745401188473625\n"
     ]
    }
   ],
   "source": [
    "np.random.seed(42)\n",
    "print(np.random.random())"
   ]
  },
  {
   "cell_type": "markdown",
   "metadata": {},
   "source": [
    "### Gerando amostras de diversas distribuições\n",
    "\n",
    "Os valores que geramos até agora foram todos uniformemente distribuídos, mas NumPy oferece funções para gerar amostras de mais de 30 [distribuições](https://numpy.org/doc/1.16/reference/routines.random.html), incluindo normal, beta, log-normal, qui-quadrado, Dirichlet, exponencial, etc. De uma maneira geral, essas funções recebem como parâmetros os parâmetros da distribuição desejada e o tamanho da amostra:"
   ]
  },
  {
   "cell_type": "code",
   "execution_count": 90,
   "metadata": {},
   "outputs": [
    {
     "name": "stdout",
     "output_type": "stream",
     "text": [
      "[[ 2.72777305  5.07832543]\n",
      " [-0.64898192 -0.41173343]\n",
      " [-2.8800829   2.38145451]]\n",
      "\n",
      "[[0.14993923 0.42116093]\n",
      " [0.04064797 0.16241968]\n",
      " [0.68030115 0.09221402]]\n",
      "\n",
      "[[0.25144899 0.59463464 0.15391637]\n",
      " [0.03690841 0.84745473 0.11563686]\n",
      " [0.09827381 0.55130869 0.3504175 ]]\n",
      "\n"
     ]
    }
   ],
   "source": [
    "print(np.random.normal(0, 2, (3,2)))  # Matriz 3x2 seguindo N(0, 4)\n",
    "print()\n",
    "print(np.random.beta(1, 2, (3,2)))  # Matriz 3x2 seguindo Beta(1, 2)\n",
    "print()\n",
    "print(np.random.dirichlet((1, 2, 1), 3))  # Matriz com 3 vetores que seguem Dirichlet(1, 2, 1)\n",
    "print()"
   ]
  },
  {
   "cell_type": "code",
   "execution_count": null,
   "metadata": {},
   "outputs": [],
   "source": []
  }
 ],
 "metadata": {
  "kernelspec": {
   "display_name": "Python 3",
   "language": "python",
   "name": "python3"
  },
  "language_info": {
   "codemirror_mode": {
    "name": "ipython",
    "version": 3
   },
   "file_extension": ".py",
   "mimetype": "text/x-python",
   "name": "python",
   "nbconvert_exporter": "python",
   "pygments_lexer": "ipython3",
   "version": "3.7.3"
  }
 },
 "nbformat": 4,
 "nbformat_minor": 2
}
