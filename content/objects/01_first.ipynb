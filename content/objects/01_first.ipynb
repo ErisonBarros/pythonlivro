{
 "cells": [
  {
   "cell_type": "markdown",
   "metadata": {},
   "source": [
    "# Objetos e Classes\n",
    "\n",
    "A programação orientada a objetos (OOP - do inglês *object oriented programming*) é um paradigma de programação baseado no conceito de objetos, que, na maior parte das linguagens OOP, são manifestações concretas de abstrações, chamadas classes. As classes representam tipos de dados e quais são seus atributos ou propriedades, de forma que cada objeto é uma instância de uma classe e pode ter valores diferentes para seus atributos. Além disso, as classes determinam que ações os seus objetos podem realizar, por meio de funções chamadas de métodos. Os métodos são frequentemente definidos de forma que os dados armazenados nos atributos do objeto associado ou de outro objeto são modificados. Programas OOP são então desenvolvidos por meio da criação e da interação de objetos. Alguns exemplos de classes incluem:\n",
    "\n",
    "   1. Carro:\n",
    "      * Atributos:\n",
    "         1. Marca\n",
    "         2. Modelo\n",
    "         3. Ano\n",
    "         4. Placa\n",
    "         5. Opcionais (lista)\n",
    "      * Métodos:\n",
    "         1. Ligar\n",
    "         2. Desligar\n",
    "         3. Acelerar\n",
    "         4. Frear\n",
    "         5. Ligar rádio\n",
    "   2. Distribuição Normal\n",
    "      * Atributos:\n",
    "         1. Média\n",
    "         2. Variância \n",
    "      * Métodos\n",
    "         1. Calcular fdp\n",
    "         2. Gerar amostra \n",
    "         3. Calcular função de distribuição acumulada\n",
    "   2. Regressão Linear\n",
    "      * Atributos:\n",
    "         1. Coeficientes\n",
    "         2. Intercepto \n",
    "      * Métodos\n",
    "         1. Ajustar a uma amostra\n",
    "         2. Estimar valores para nova amostra \n",
    "         3. Calcular $R^2$\n",
    "         4. Realizar testes de hipótese\n",
    "\n",
    "Note que cada classe representa um conceito, sua descrição (atributos) e suas ações associadas (métodos). Assim, um objeto é uma realização concreta de um conceito de classe, i.e. uma instância de classe. Por exemplo: $X \\sim N(3, 4)$ é um objeto que é uma instância de distribuição Normal com média *3* e variância *4*. Com esse objeto, podemos calcular o valor da fdp ou da função de distribuição acumulada para um dado valor (ou uma lista de valores) e gerar amostra(s) aleatórias.\n"
   ]
  },
  {
   "cell_type": "markdown",
   "metadata": {},
   "source": [
    "## Uma breve discussão sobre escopo\n",
    "\n",
    "Antes de seguirmos com o estudo de classes e objetos, precisamos discutir o funcionamento de escopos e *namespaces* (espaços de nomes) em Python. Escopo é a região de código em que uma variável ou uma função existe. Cada escopo tem um *namespace* associado, que é o conjunto de nomes de vaiáveis ou funções que pertencem àquele escopo. Os *namespaces* são implementados por meio de dicionários, mas isso não costuma ser perceptível. A qualquer momento durate a execução de um script, existem vários escopos/*namespaces* aninhados e acessíveis:\n",
    "\n",
    "   * O escopo local\n",
    "   * O escopo de alguma função que envolva o escopo local\n",
    "   * O escopo global do script/módulo\n",
    "   * O escopo mais externo de todos, que contém palavras reservadas e identificadores integrados da linguagem\n",
    "   \n",
    "Quando o código tenta acessar um identificador (por exemplo ao chamar uma função), o interpretador de Python busca pelo identificador do *namespace* do escopo mais interno até o mais externo, até encontrá-lo. Veja o seguinte exemplo: "
   ]
  },
  {
   "cell_type": "code",
   "execution_count": 10,
   "metadata": {},
   "outputs": [
    {
     "name": "stdout",
     "output_type": "stream",
     "text": [
      "10\n",
      "10\n"
     ]
    }
   ],
   "source": [
    "t = 10\n",
    "\n",
    "def test():\n",
    "    t = 5\n",
    "    print(t)\n",
    "\n",
    "test()\n",
    "print(t)"
   ]
  },
  {
   "cell_type": "markdown",
   "metadata": {},
   "source": [
    "O código acima define uma variável *t* com valor *10* no escopo global e outra variável com o mesmo nome e valor *5* no escopo da função *test*. Ao imprimir o valor de *t* dentro da função, o resultado é *5*. Após a chamada da função, o valor de *t* é impresso novamente, obtendo o valor de *t* no escopo global. Isso acontece porque uma **atribuição** a uma variável em um escopo interno sempre irá criar a variável dentro do *namespace* interno. Note que, se não houver a atribuição *t = 5*, o valor impresso dentro de *test* será o da variável *t* externa."
   ]
  },
  {
   "cell_type": "code",
   "execution_count": 11,
   "metadata": {},
   "outputs": [
    {
     "name": "stdout",
     "output_type": "stream",
     "text": [
      "10\n",
      "10\n"
     ]
    }
   ],
   "source": [
    "t = 10\n",
    "\n",
    "def test():\n",
    "    print(t)\n",
    "\n",
    "test()\n",
    "print(t)"
   ]
  },
  {
   "cell_type": "markdown",
   "metadata": {},
   "source": [
    "Podemos atribuir um valor à variável *t* do escopo global dentro do escopo da função *test* por meio do operador **global**. Nesse caso, é preciso declarar que a variável é global antes da atribuição. Note a mudança do valor de *t* global após a chamada da função."
   ]
  },
  {
   "cell_type": "code",
   "execution_count": 16,
   "metadata": {},
   "outputs": [
    {
     "name": "stdout",
     "output_type": "stream",
     "text": [
      "5\n",
      "5\n"
     ]
    }
   ],
   "source": [
    "t = 10\n",
    "\n",
    "def test():\n",
    "    global t\n",
    "    t = 5\n",
    "    print(t)\n",
    "\n",
    "test()\n",
    "print(t)"
   ]
  },
  {
   "cell_type": "markdown",
   "metadata": {},
   "source": [
    "Note que o operador **global** faz com que a variável *t* \"viva\" no escopo global, o que permite que ela seja criada dentro da função e passe a existir no escopo global após a sua chamada."
   ]
  },
  {
   "cell_type": "code",
   "execution_count": 18,
   "metadata": {},
   "outputs": [
    {
     "name": "stdout",
     "output_type": "stream",
     "text": [
      "5\n",
      "5\n"
     ]
    }
   ],
   "source": [
    "def test():\n",
    "    global x\n",
    "    x = 5\n",
    "    print(x)\n",
    "\n",
    "test()\n",
    "print(x)"
   ]
  },
  {
   "cell_type": "markdown",
   "metadata": {},
   "source": [
    "Agora observe o seguinte exemplo:"
   ]
  },
  {
   "cell_type": "code",
   "execution_count": 20,
   "metadata": {},
   "outputs": [
    {
     "name": "stdout",
     "output_type": "stream",
     "text": [
      "3\n",
      "5\n",
      "5\n"
     ]
    }
   ],
   "source": [
    "t = 10\n",
    "\n",
    "def test():\n",
    "    global t\n",
    "    t = 5\n",
    "    def test_nested():\n",
    "        t = 3\n",
    "        print(t)\n",
    "    test_nested()\n",
    "    print(t)\n",
    "\n",
    "test()\n",
    "print(t)"
   ]
  },
  {
   "cell_type": "markdown",
   "metadata": {},
   "source": [
    "Há 3 atribuições à variável *t* no código acima. Na função *test*, o operador **global** faz com que a atribuição *t = 5* seja aplicada à variável *t* global. Mas isso não afeta a atribuição *t = 3* da função aninhada *test_nested*. Para que a terceira atribuiçãose aplique à mesma variável, é necessário usar **global** novamente. "
   ]
  },
  {
   "cell_type": "code",
   "execution_count": 22,
   "metadata": {},
   "outputs": [
    {
     "name": "stdout",
     "output_type": "stream",
     "text": [
      "3\n",
      "3\n",
      "3\n"
     ]
    }
   ],
   "source": [
    "t = 10\n",
    "\n",
    "def test():\n",
    "    global t\n",
    "    t = 5\n",
    "    def test_nested():\n",
    "        global t\n",
    "        t = 3\n",
    "        print(t)\n",
    "    test_nested()\n",
    "    print(t)\n",
    "\n",
    "test()\n",
    "print(t)"
   ]
  },
  {
   "cell_type": "markdown",
   "metadata": {},
   "source": [
    "O operador **global**, como seu nome indica, só se aplica a variáveis do escopo global. Se a variável *t* tivesse sido definida na função *test*, a função *test_nested* não poderia atribuir um valor a ela por meio do uso de **global**. Exemplo:"
   ]
  },
  {
   "cell_type": "code",
   "execution_count": 24,
   "metadata": {},
   "outputs": [
    {
     "name": "stdout",
     "output_type": "stream",
     "text": [
      "3\n",
      "5\n",
      "3\n"
     ]
    }
   ],
   "source": [
    "def test():\n",
    "    t = 5\n",
    "    def test_nested():\n",
    "        global t\n",
    "        t = 3\n",
    "        print(t)\n",
    "    test_nested()\n",
    "    print(t)\n",
    "\n",
    "test()\n",
    "print(t)"
   ]
  },
  {
   "cell_type": "markdown",
   "metadata": {},
   "source": [
    "Note que no código acima, a linha **global** *t* dentro de *test_nested* cria uma nova variável global e não modifica a variável *t* criada por *test*. Caso deseje-se modificar o valor da variável *t* definida no escopo acima, usa-se o operador **nonlocal**:"
   ]
  },
  {
   "cell_type": "code",
   "execution_count": 26,
   "metadata": {},
   "outputs": [
    {
     "name": "stdout",
     "output_type": "stream",
     "text": [
      "3\n",
      "3\n"
     ]
    }
   ],
   "source": [
    "def test():\n",
    "    t = 5\n",
    "    def test_nested():\n",
    "        nonlocal t\n",
    "        t = 3\n",
    "        print(t)\n",
    "    test_nested()\n",
    "    print(t)\n",
    "\n",
    "test()"
   ]
  },
  {
   "cell_type": "markdown",
   "metadata": {},
   "source": [
    "Outro exemplo, retirado da [documentação de Python](https://docs.python.org/3/tutorial/classes.html)."
   ]
  },
  {
   "cell_type": "code",
   "execution_count": 29,
   "metadata": {},
   "outputs": [
    {
     "name": "stdout",
     "output_type": "stream",
     "text": [
      "After local assignment: test spam\n",
      "After nonlocal assignment: nonlocal spam\n",
      "After global assignment: nonlocal spam\n",
      "In global scope: global spam\n"
     ]
    }
   ],
   "source": [
    "def scope_test():\n",
    "    def do_local():\n",
    "        spam = \"local spam\"\n",
    "\n",
    "    def do_nonlocal():\n",
    "        nonlocal spam\n",
    "        spam = \"nonlocal spam\"\n",
    "\n",
    "    def do_global():\n",
    "        global spam\n",
    "        spam = \"global spam\"\n",
    "\n",
    "    spam = \"test spam\"\n",
    "    do_local()\n",
    "    print(\"After local assignment:\", spam)\n",
    "    do_nonlocal()\n",
    "    print(\"After nonlocal assignment:\", spam)\n",
    "    do_global()\n",
    "    print(\"After global assignment:\", spam)\n",
    "\n",
    "scope_test()\n",
    "print(\"In global scope:\", spam)"
   ]
  },
  {
   "cell_type": "code",
   "execution_count": null,
   "metadata": {},
   "outputs": [],
   "source": []
  }
 ],
 "metadata": {
  "kernelspec": {
   "display_name": "Python 3",
   "language": "python",
   "name": "python3"
  },
  "language_info": {
   "codemirror_mode": {
    "name": "ipython",
    "version": 3
   },
   "file_extension": ".py",
   "mimetype": "text/x-python",
   "name": "python",
   "nbconvert_exporter": "python",
   "pygments_lexer": "ipython3",
   "version": "3.6.5"
  },
  "widgets": {
   "application/vnd.jupyter.widget-state+json": {
    "state": {},
    "version_major": 2,
    "version_minor": 0
   }
  }
 },
 "nbformat": 4,
 "nbformat_minor": 4
}
